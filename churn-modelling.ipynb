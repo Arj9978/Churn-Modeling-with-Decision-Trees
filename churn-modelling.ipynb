{
 "cells": [
  {
   "cell_type": "markdown",
   "id": "76a22ac3",
   "metadata": {
    "papermill": {
     "duration": 0.029215,
     "end_time": "2023-07-01T19:01:53.372692",
     "exception": false,
     "start_time": "2023-07-01T19:01:53.343477",
     "status": "completed"
    },
    "tags": []
   },
   "source": [
    "<div class=\"alert alert-block alert-success\">\n",
    "    <h3 align=\"center\">Churn Modelling</h3>\n",
    "    <h4 align=\"center\">Alireza Javid</h4>\n",
    "</div>"
   ]
  },
  {
   "cell_type": "markdown",
   "id": "eb8fbc52",
   "metadata": {
    "papermill": {
     "duration": 0.029635,
     "end_time": "2023-07-01T19:01:53.431369",
     "exception": false,
     "start_time": "2023-07-01T19:01:53.401734",
     "status": "completed"
    },
    "tags": []
   },
   "source": [
    "Customer churn prediction is to measure why customers are leaving a business. In this tutorial we will be looking at customer churn in telecom business. We will build some models to predict the churn and use precision,recall, f1-score to measure performance of our model."
   ]
  },
  {
   "cell_type": "markdown",
   "id": "ca6f3c30",
   "metadata": {
    "papermill": {
     "duration": 0.028905,
     "end_time": "2023-07-01T19:01:53.490168",
     "exception": false,
     "start_time": "2023-07-01T19:01:53.461263",
     "status": "completed"
    },
    "tags": []
   },
   "source": [
    "### We will go through project like this:\n",
    "<h3 style='color:blue'>Handle imbalanced data in churn prediction.</h3>\n",
    "\n",
    "\n",
    "1. Import Library\n",
    "2. Load Data\n",
    "3. EDA\n",
    "4. Visulization\n",
    "5. Preprocessing (Encoding , Scaling , Imputation)\n",
    "6. Training the model\n",
    "7. Evaluation"
   ]
  },
  {
   "cell_type": "markdown",
   "id": "662ede35",
   "metadata": {
    "papermill": {
     "duration": 0.028879,
     "end_time": "2023-07-01T19:01:53.548244",
     "exception": false,
     "start_time": "2023-07-01T19:01:53.519365",
     "status": "completed"
    },
    "tags": []
   },
   "source": [
    "# 1. Import Libraries"
   ]
  },
  {
   "cell_type": "code",
   "execution_count": 1,
   "id": "d2a48ce4",
   "metadata": {
    "execution": {
     "iopub.execute_input": "2023-07-01T19:01:53.608331Z",
     "iopub.status.busy": "2023-07-01T19:01:53.607644Z",
     "iopub.status.idle": "2023-07-01T19:01:55.986153Z",
     "shell.execute_reply": "2023-07-01T19:01:55.984863Z"
    },
    "papermill": {
     "duration": 2.411523,
     "end_time": "2023-07-01T19:01:55.988954",
     "exception": false,
     "start_time": "2023-07-01T19:01:53.577431",
     "status": "completed"
    },
    "tags": []
   },
   "outputs": [],
   "source": [
    "import joblib\n",
    "import sklearn\n",
    "import warnings\n",
    "\n",
    "import numpy as np\n",
    "import pandas as pd\n",
    "\n",
    "import plotly.express as px\n",
    "\n",
    "from sklearn import svm, tree\n",
    "\n",
    "from sklearn.metrics import classification_report\n",
    "from sklearn.neighbors import NearestCentroid\n",
    "from sklearn.linear_model import LogisticRegression, SGDClassifier\n",
    "\n",
    "from matplotlib import pyplot as plt\n",
    "\n",
    "from sklearn.preprocessing import MinMaxScaler\n",
    "\n",
    "%matplotlib inline\n",
    "warnings.filterwarnings('ignore')"
   ]
  },
  {
   "cell_type": "code",
   "execution_count": 2,
   "id": "f5964924",
   "metadata": {
    "execution": {
     "iopub.execute_input": "2023-07-01T19:01:56.049415Z",
     "iopub.status.busy": "2023-07-01T19:01:56.048676Z",
     "iopub.status.idle": "2023-07-01T19:01:56.055144Z",
     "shell.execute_reply": "2023-07-01T19:01:56.054435Z"
    },
    "papermill": {
     "duration": 0.038994,
     "end_time": "2023-07-01T19:01:56.057145",
     "exception": false,
     "start_time": "2023-07-01T19:01:56.018151",
     "status": "completed"
    },
    "tags": []
   },
   "outputs": [
    {
     "data": {
      "text/plain": [
       "'1.2.2'"
      ]
     },
     "execution_count": 2,
     "metadata": {},
     "output_type": "execute_result"
    }
   ],
   "source": [
    "sklearn.__version__"
   ]
  },
  {
   "cell_type": "markdown",
   "id": "a3906549",
   "metadata": {
    "papermill": {
     "duration": 0.028911,
     "end_time": "2023-07-01T19:01:56.115324",
     "exception": false,
     "start_time": "2023-07-01T19:01:56.086413",
     "status": "completed"
    },
    "tags": []
   },
   "source": [
    "## 2. Load data and make dataframe"
   ]
  },
  {
   "cell_type": "code",
   "execution_count": 3,
   "id": "051aa8f4",
   "metadata": {
    "execution": {
     "iopub.execute_input": "2023-07-01T19:01:56.176312Z",
     "iopub.status.busy": "2023-07-01T19:01:56.175889Z",
     "iopub.status.idle": "2023-07-01T19:01:56.272644Z",
     "shell.execute_reply": "2023-07-01T19:01:56.271679Z"
    },
    "papermill": {
     "duration": 0.130651,
     "end_time": "2023-07-01T19:01:56.275124",
     "exception": false,
     "start_time": "2023-07-01T19:01:56.144473",
     "status": "completed"
    },
    "tags": []
   },
   "outputs": [
    {
     "data": {
      "text/html": [
       "<div>\n",
       "<style scoped>\n",
       "    .dataframe tbody tr th:only-of-type {\n",
       "        vertical-align: middle;\n",
       "    }\n",
       "\n",
       "    .dataframe tbody tr th {\n",
       "        vertical-align: top;\n",
       "    }\n",
       "\n",
       "    .dataframe thead th {\n",
       "        text-align: right;\n",
       "    }\n",
       "</style>\n",
       "<table border=\"1\" class=\"dataframe\">\n",
       "  <thead>\n",
       "    <tr style=\"text-align: right;\">\n",
       "      <th></th>\n",
       "      <th>gender</th>\n",
       "      <th>SeniorCitizen</th>\n",
       "      <th>Partner</th>\n",
       "      <th>Dependents</th>\n",
       "      <th>tenure</th>\n",
       "      <th>PhoneService</th>\n",
       "      <th>MultipleLines</th>\n",
       "      <th>InternetService</th>\n",
       "      <th>OnlineSecurity</th>\n",
       "      <th>OnlineBackup</th>\n",
       "      <th>DeviceProtection</th>\n",
       "      <th>TechSupport</th>\n",
       "      <th>StreamingTV</th>\n",
       "      <th>StreamingMovies</th>\n",
       "      <th>Contract</th>\n",
       "      <th>PaperlessBilling</th>\n",
       "      <th>PaymentMethod</th>\n",
       "      <th>MonthlyCharges</th>\n",
       "      <th>TotalCharges</th>\n",
       "      <th>Churn</th>\n",
       "    </tr>\n",
       "  </thead>\n",
       "  <tbody>\n",
       "    <tr>\n",
       "      <th>6171</th>\n",
       "      <td>Female</td>\n",
       "      <td>1</td>\n",
       "      <td>Yes</td>\n",
       "      <td>Yes</td>\n",
       "      <td>59</td>\n",
       "      <td>Yes</td>\n",
       "      <td>Yes</td>\n",
       "      <td>Fiber optic</td>\n",
       "      <td>No</td>\n",
       "      <td>No</td>\n",
       "      <td>Yes</td>\n",
       "      <td>No</td>\n",
       "      <td>No</td>\n",
       "      <td>Yes</td>\n",
       "      <td>Month-to-month</td>\n",
       "      <td>Yes</td>\n",
       "      <td>Credit card (automatic)</td>\n",
       "      <td>88.75</td>\n",
       "      <td>5348.65</td>\n",
       "      <td>No</td>\n",
       "    </tr>\n",
       "    <tr>\n",
       "      <th>6916</th>\n",
       "      <td>Male</td>\n",
       "      <td>0</td>\n",
       "      <td>No</td>\n",
       "      <td>Yes</td>\n",
       "      <td>44</td>\n",
       "      <td>Yes</td>\n",
       "      <td>No</td>\n",
       "      <td>No</td>\n",
       "      <td>No internet service</td>\n",
       "      <td>No internet service</td>\n",
       "      <td>No internet service</td>\n",
       "      <td>No internet service</td>\n",
       "      <td>No internet service</td>\n",
       "      <td>No internet service</td>\n",
       "      <td>Two year</td>\n",
       "      <td>No</td>\n",
       "      <td>Bank transfer (automatic)</td>\n",
       "      <td>19.55</td>\n",
       "      <td>819.95</td>\n",
       "      <td>No</td>\n",
       "    </tr>\n",
       "    <tr>\n",
       "      <th>5073</th>\n",
       "      <td>Female</td>\n",
       "      <td>0</td>\n",
       "      <td>No</td>\n",
       "      <td>Yes</td>\n",
       "      <td>22</td>\n",
       "      <td>No</td>\n",
       "      <td>No phone service</td>\n",
       "      <td>DSL</td>\n",
       "      <td>No</td>\n",
       "      <td>No</td>\n",
       "      <td>Yes</td>\n",
       "      <td>No</td>\n",
       "      <td>Yes</td>\n",
       "      <td>Yes</td>\n",
       "      <td>One year</td>\n",
       "      <td>Yes</td>\n",
       "      <td>Credit card (automatic)</td>\n",
       "      <td>49.45</td>\n",
       "      <td>1031.4</td>\n",
       "      <td>No</td>\n",
       "    </tr>\n",
       "    <tr>\n",
       "      <th>5936</th>\n",
       "      <td>Female</td>\n",
       "      <td>0</td>\n",
       "      <td>Yes</td>\n",
       "      <td>Yes</td>\n",
       "      <td>38</td>\n",
       "      <td>Yes</td>\n",
       "      <td>No</td>\n",
       "      <td>No</td>\n",
       "      <td>No internet service</td>\n",
       "      <td>No internet service</td>\n",
       "      <td>No internet service</td>\n",
       "      <td>No internet service</td>\n",
       "      <td>No internet service</td>\n",
       "      <td>No internet service</td>\n",
       "      <td>Two year</td>\n",
       "      <td>Yes</td>\n",
       "      <td>Mailed check</td>\n",
       "      <td>19.95</td>\n",
       "      <td>756.4</td>\n",
       "      <td>No</td>\n",
       "    </tr>\n",
       "    <tr>\n",
       "      <th>690</th>\n",
       "      <td>Male</td>\n",
       "      <td>0</td>\n",
       "      <td>No</td>\n",
       "      <td>No</td>\n",
       "      <td>1</td>\n",
       "      <td>Yes</td>\n",
       "      <td>No</td>\n",
       "      <td>No</td>\n",
       "      <td>No internet service</td>\n",
       "      <td>No internet service</td>\n",
       "      <td>No internet service</td>\n",
       "      <td>No internet service</td>\n",
       "      <td>No internet service</td>\n",
       "      <td>No internet service</td>\n",
       "      <td>Month-to-month</td>\n",
       "      <td>Yes</td>\n",
       "      <td>Mailed check</td>\n",
       "      <td>20.45</td>\n",
       "      <td>20.45</td>\n",
       "      <td>No</td>\n",
       "    </tr>\n",
       "  </tbody>\n",
       "</table>\n",
       "</div>"
      ],
      "text/plain": [
       "      gender  SeniorCitizen Partner Dependents  tenure PhoneService  \\\n",
       "6171  Female              1     Yes        Yes      59          Yes   \n",
       "6916    Male              0      No        Yes      44          Yes   \n",
       "5073  Female              0      No        Yes      22           No   \n",
       "5936  Female              0     Yes        Yes      38          Yes   \n",
       "690     Male              0      No         No       1          Yes   \n",
       "\n",
       "         MultipleLines InternetService       OnlineSecurity  \\\n",
       "6171               Yes     Fiber optic                   No   \n",
       "6916                No              No  No internet service   \n",
       "5073  No phone service             DSL                   No   \n",
       "5936                No              No  No internet service   \n",
       "690                 No              No  No internet service   \n",
       "\n",
       "             OnlineBackup     DeviceProtection          TechSupport  \\\n",
       "6171                   No                  Yes                   No   \n",
       "6916  No internet service  No internet service  No internet service   \n",
       "5073                   No                  Yes                   No   \n",
       "5936  No internet service  No internet service  No internet service   \n",
       "690   No internet service  No internet service  No internet service   \n",
       "\n",
       "              StreamingTV      StreamingMovies        Contract  \\\n",
       "6171                   No                  Yes  Month-to-month   \n",
       "6916  No internet service  No internet service        Two year   \n",
       "5073                  Yes                  Yes        One year   \n",
       "5936  No internet service  No internet service        Two year   \n",
       "690   No internet service  No internet service  Month-to-month   \n",
       "\n",
       "     PaperlessBilling              PaymentMethod  MonthlyCharges TotalCharges  \\\n",
       "6171              Yes    Credit card (automatic)           88.75      5348.65   \n",
       "6916               No  Bank transfer (automatic)           19.55       819.95   \n",
       "5073              Yes    Credit card (automatic)           49.45       1031.4   \n",
       "5936              Yes               Mailed check           19.95        756.4   \n",
       "690               Yes               Mailed check           20.45        20.45   \n",
       "\n",
       "     Churn  \n",
       "6171    No  \n",
       "6916    No  \n",
       "5073    No  \n",
       "5936    No  \n",
       "690     No  "
      ]
     },
     "execution_count": 3,
     "metadata": {},
     "output_type": "execute_result"
    }
   ],
   "source": [
    "df = pd.read_csv(\"/kaggle/input/customer-churn/IT_customer_churn.csv\")\n",
    "df.sample(5)"
   ]
  },
  {
   "cell_type": "code",
   "execution_count": 4,
   "id": "f65f3500",
   "metadata": {
    "execution": {
     "iopub.execute_input": "2023-07-01T19:01:56.336477Z",
     "iopub.status.busy": "2023-07-01T19:01:56.336091Z",
     "iopub.status.idle": "2023-07-01T19:01:56.358736Z",
     "shell.execute_reply": "2023-07-01T19:01:56.357650Z"
    },
    "papermill": {
     "duration": 0.055625,
     "end_time": "2023-07-01T19:01:56.360793",
     "exception": false,
     "start_time": "2023-07-01T19:01:56.305168",
     "status": "completed"
    },
    "tags": []
   },
   "outputs": [
    {
     "data": {
      "text/html": [
       "<div>\n",
       "<style scoped>\n",
       "    .dataframe tbody tr th:only-of-type {\n",
       "        vertical-align: middle;\n",
       "    }\n",
       "\n",
       "    .dataframe tbody tr th {\n",
       "        vertical-align: top;\n",
       "    }\n",
       "\n",
       "    .dataframe thead th {\n",
       "        text-align: right;\n",
       "    }\n",
       "</style>\n",
       "<table border=\"1\" class=\"dataframe\">\n",
       "  <thead>\n",
       "    <tr style=\"text-align: right;\">\n",
       "      <th></th>\n",
       "      <th>SeniorCitizen</th>\n",
       "      <th>tenure</th>\n",
       "      <th>MonthlyCharges</th>\n",
       "    </tr>\n",
       "  </thead>\n",
       "  <tbody>\n",
       "    <tr>\n",
       "      <th>count</th>\n",
       "      <td>7043.000000</td>\n",
       "      <td>7043.000000</td>\n",
       "      <td>7043.000000</td>\n",
       "    </tr>\n",
       "    <tr>\n",
       "      <th>mean</th>\n",
       "      <td>0.162147</td>\n",
       "      <td>32.371149</td>\n",
       "      <td>64.761692</td>\n",
       "    </tr>\n",
       "    <tr>\n",
       "      <th>std</th>\n",
       "      <td>0.368612</td>\n",
       "      <td>24.559481</td>\n",
       "      <td>30.090047</td>\n",
       "    </tr>\n",
       "    <tr>\n",
       "      <th>min</th>\n",
       "      <td>0.000000</td>\n",
       "      <td>0.000000</td>\n",
       "      <td>18.250000</td>\n",
       "    </tr>\n",
       "    <tr>\n",
       "      <th>25%</th>\n",
       "      <td>0.000000</td>\n",
       "      <td>9.000000</td>\n",
       "      <td>35.500000</td>\n",
       "    </tr>\n",
       "    <tr>\n",
       "      <th>50%</th>\n",
       "      <td>0.000000</td>\n",
       "      <td>29.000000</td>\n",
       "      <td>70.350000</td>\n",
       "    </tr>\n",
       "    <tr>\n",
       "      <th>75%</th>\n",
       "      <td>0.000000</td>\n",
       "      <td>55.000000</td>\n",
       "      <td>89.850000</td>\n",
       "    </tr>\n",
       "    <tr>\n",
       "      <th>max</th>\n",
       "      <td>1.000000</td>\n",
       "      <td>72.000000</td>\n",
       "      <td>118.750000</td>\n",
       "    </tr>\n",
       "  </tbody>\n",
       "</table>\n",
       "</div>"
      ],
      "text/plain": [
       "       SeniorCitizen       tenure  MonthlyCharges\n",
       "count    7043.000000  7043.000000     7043.000000\n",
       "mean        0.162147    32.371149       64.761692\n",
       "std         0.368612    24.559481       30.090047\n",
       "min         0.000000     0.000000       18.250000\n",
       "25%         0.000000     9.000000       35.500000\n",
       "50%         0.000000    29.000000       70.350000\n",
       "75%         0.000000    55.000000       89.850000\n",
       "max         1.000000    72.000000      118.750000"
      ]
     },
     "execution_count": 4,
     "metadata": {},
     "output_type": "execute_result"
    }
   ],
   "source": [
    "df.describe()"
   ]
  },
  {
   "cell_type": "code",
   "execution_count": 5,
   "id": "3a0e00ff",
   "metadata": {
    "execution": {
     "iopub.execute_input": "2023-07-01T19:01:56.422054Z",
     "iopub.status.busy": "2023-07-01T19:01:56.421628Z",
     "iopub.status.idle": "2023-07-01T19:01:56.428401Z",
     "shell.execute_reply": "2023-07-01T19:01:56.427396Z"
    },
    "papermill": {
     "duration": 0.040376,
     "end_time": "2023-07-01T19:01:56.430802",
     "exception": false,
     "start_time": "2023-07-01T19:01:56.390426",
     "status": "completed"
    },
    "scrolled": true,
    "tags": []
   },
   "outputs": [
    {
     "data": {
      "text/plain": [
       "Index(['gender', 'SeniorCitizen', 'Partner', 'Dependents', 'tenure',\n",
       "       'PhoneService', 'MultipleLines', 'InternetService', 'OnlineSecurity',\n",
       "       'OnlineBackup', 'DeviceProtection', 'TechSupport', 'StreamingTV',\n",
       "       'StreamingMovies', 'Contract', 'PaperlessBilling', 'PaymentMethod',\n",
       "       'MonthlyCharges', 'TotalCharges', 'Churn'],\n",
       "      dtype='object')"
      ]
     },
     "execution_count": 5,
     "metadata": {},
     "output_type": "execute_result"
    }
   ],
   "source": [
    "df.columns"
   ]
  },
  {
   "cell_type": "code",
   "execution_count": 6,
   "id": "1863f732",
   "metadata": {
    "execution": {
     "iopub.execute_input": "2023-07-01T19:01:56.492866Z",
     "iopub.status.busy": "2023-07-01T19:01:56.492495Z",
     "iopub.status.idle": "2023-07-01T19:01:56.499961Z",
     "shell.execute_reply": "2023-07-01T19:01:56.499266Z"
    },
    "papermill": {
     "duration": 0.040771,
     "end_time": "2023-07-01T19:01:56.501914",
     "exception": false,
     "start_time": "2023-07-01T19:01:56.461143",
     "status": "completed"
    },
    "tags": []
   },
   "outputs": [
    {
     "data": {
      "text/plain": [
       "gender               object\n",
       "SeniorCitizen         int64\n",
       "Partner              object\n",
       "Dependents           object\n",
       "tenure                int64\n",
       "PhoneService         object\n",
       "MultipleLines        object\n",
       "InternetService      object\n",
       "OnlineSecurity       object\n",
       "OnlineBackup         object\n",
       "DeviceProtection     object\n",
       "TechSupport          object\n",
       "StreamingTV          object\n",
       "StreamingMovies      object\n",
       "Contract             object\n",
       "PaperlessBilling     object\n",
       "PaymentMethod        object\n",
       "MonthlyCharges      float64\n",
       "TotalCharges         object\n",
       "Churn                object\n",
       "dtype: object"
      ]
     },
     "execution_count": 6,
     "metadata": {},
     "output_type": "execute_result"
    }
   ],
   "source": [
    "df.dtypes"
   ]
  },
  {
   "cell_type": "code",
   "execution_count": 7,
   "id": "e56c8b6a",
   "metadata": {
    "execution": {
     "iopub.execute_input": "2023-07-01T19:01:56.564307Z",
     "iopub.status.busy": "2023-07-01T19:01:56.563894Z",
     "iopub.status.idle": "2023-07-01T19:01:56.576479Z",
     "shell.execute_reply": "2023-07-01T19:01:56.575541Z"
    },
    "papermill": {
     "duration": 0.046436,
     "end_time": "2023-07-01T19:01:56.578501",
     "exception": false,
     "start_time": "2023-07-01T19:01:56.532065",
     "status": "completed"
    },
    "tags": []
   },
   "outputs": [
    {
     "data": {
      "text/plain": [
       "No     5174\n",
       "Yes    1869\n",
       "Name: Churn, dtype: int64"
      ]
     },
     "execution_count": 7,
     "metadata": {},
     "output_type": "execute_result"
    }
   ],
   "source": [
    "df['Churn'].value_counts()"
   ]
  },
  {
   "cell_type": "markdown",
   "id": "13061ef7",
   "metadata": {
    "papermill": {
     "duration": 0.031831,
     "end_time": "2023-07-01T19:01:56.640805",
     "exception": false,
     "start_time": "2023-07-01T19:01:56.608974",
     "status": "completed"
    },
    "tags": []
   },
   "source": [
    "# 3. Do Some EDA"
   ]
  },
  {
   "cell_type": "code",
   "execution_count": 8,
   "id": "0115b9b3",
   "metadata": {
    "execution": {
     "iopub.execute_input": "2023-07-01T19:01:56.703363Z",
     "iopub.status.busy": "2023-07-01T19:01:56.702948Z",
     "iopub.status.idle": "2023-07-01T19:01:56.748781Z",
     "shell.execute_reply": "2023-07-01T19:01:56.747909Z"
    },
    "papermill": {
     "duration": 0.079606,
     "end_time": "2023-07-01T19:01:56.750902",
     "exception": false,
     "start_time": "2023-07-01T19:01:56.671296",
     "status": "completed"
    },
    "tags": []
   },
   "outputs": [
    {
     "data": {
      "text/plain": [
       "0"
      ]
     },
     "execution_count": 8,
     "metadata": {},
     "output_type": "execute_result"
    }
   ],
   "source": [
    "df.isnull().sum().sum()"
   ]
  },
  {
   "cell_type": "code",
   "execution_count": 9,
   "id": "48ac5285",
   "metadata": {
    "execution": {
     "iopub.execute_input": "2023-07-01T19:01:56.814088Z",
     "iopub.status.busy": "2023-07-01T19:01:56.813703Z",
     "iopub.status.idle": "2023-07-01T19:01:56.827316Z",
     "shell.execute_reply": "2023-07-01T19:01:56.826194Z"
    },
    "papermill": {
     "duration": 0.047769,
     "end_time": "2023-07-01T19:01:56.829474",
     "exception": false,
     "start_time": "2023-07-01T19:01:56.781705",
     "status": "completed"
    },
    "tags": []
   },
   "outputs": [
    {
     "data": {
      "text/plain": [
       "11"
      ]
     },
     "execution_count": 9,
     "metadata": {},
     "output_type": "execute_result"
    }
   ],
   "source": [
    "pd.to_numeric(df.TotalCharges,errors='coerce').isnull().sum()"
   ]
  },
  {
   "cell_type": "markdown",
   "id": "a6f71a04",
   "metadata": {
    "papermill": {
     "duration": 0.030302,
     "end_time": "2023-07-01T19:01:56.891390",
     "exception": false,
     "start_time": "2023-07-01T19:01:56.861088",
     "status": "completed"
    },
    "tags": []
   },
   "source": [
    "**Quick glance at above makes me realize that TotalCharges should be float but it is an object. Let's check what's going on with  this column**\n",
    "**Lets convert it to numbers**"
   ]
  },
  {
   "cell_type": "markdown",
   "id": "dbb33b7d",
   "metadata": {
    "papermill": {
     "duration": 0.030846,
     "end_time": "2023-07-01T19:01:56.953090",
     "exception": false,
     "start_time": "2023-07-01T19:01:56.922244",
     "status": "completed"
    },
    "tags": []
   },
   "source": [
    "**Remove rows with space in TotalCharges**"
   ]
  },
  {
   "cell_type": "code",
   "execution_count": 10,
   "id": "025e0b2f",
   "metadata": {
    "execution": {
     "iopub.execute_input": "2023-07-01T19:01:57.016322Z",
     "iopub.status.busy": "2023-07-01T19:01:57.015937Z",
     "iopub.status.idle": "2023-07-01T19:01:57.025449Z",
     "shell.execute_reply": "2023-07-01T19:01:57.024559Z"
    },
    "papermill": {
     "duration": 0.043999,
     "end_time": "2023-07-01T19:01:57.027678",
     "exception": false,
     "start_time": "2023-07-01T19:01:56.983679",
     "status": "completed"
    },
    "tags": []
   },
   "outputs": [],
   "source": [
    "df1 = df[df[\"TotalCharges\"]!=\" \"]"
   ]
  },
  {
   "cell_type": "code",
   "execution_count": 11,
   "id": "49329d58",
   "metadata": {
    "execution": {
     "iopub.execute_input": "2023-07-01T19:01:57.091180Z",
     "iopub.status.busy": "2023-07-01T19:01:57.090797Z",
     "iopub.status.idle": "2023-07-01T19:01:57.097169Z",
     "shell.execute_reply": "2023-07-01T19:01:57.096232Z"
    },
    "papermill": {
     "duration": 0.040375,
     "end_time": "2023-07-01T19:01:57.099234",
     "exception": false,
     "start_time": "2023-07-01T19:01:57.058859",
     "status": "completed"
    },
    "tags": []
   },
   "outputs": [
    {
     "data": {
      "text/plain": [
       "(7043, 20)"
      ]
     },
     "execution_count": 11,
     "metadata": {},
     "output_type": "execute_result"
    }
   ],
   "source": [
    "df.shape"
   ]
  },
  {
   "cell_type": "code",
   "execution_count": 12,
   "id": "b0213cb9",
   "metadata": {
    "execution": {
     "iopub.execute_input": "2023-07-01T19:01:57.163033Z",
     "iopub.status.busy": "2023-07-01T19:01:57.162613Z",
     "iopub.status.idle": "2023-07-01T19:01:57.169151Z",
     "shell.execute_reply": "2023-07-01T19:01:57.168254Z"
    },
    "papermill": {
     "duration": 0.040929,
     "end_time": "2023-07-01T19:01:57.171091",
     "exception": false,
     "start_time": "2023-07-01T19:01:57.130162",
     "status": "completed"
    },
    "tags": []
   },
   "outputs": [
    {
     "data": {
      "text/plain": [
       "(7032, 20)"
      ]
     },
     "execution_count": 12,
     "metadata": {},
     "output_type": "execute_result"
    }
   ],
   "source": [
    "df1.shape"
   ]
  },
  {
   "cell_type": "code",
   "execution_count": 13,
   "id": "0a91a065",
   "metadata": {
    "execution": {
     "iopub.execute_input": "2023-07-01T19:01:57.234908Z",
     "iopub.status.busy": "2023-07-01T19:01:57.234544Z",
     "iopub.status.idle": "2023-07-01T19:01:57.246609Z",
     "shell.execute_reply": "2023-07-01T19:01:57.245455Z"
    },
    "papermill": {
     "duration": 0.046479,
     "end_time": "2023-07-01T19:01:57.248881",
     "exception": false,
     "start_time": "2023-07-01T19:01:57.202402",
     "status": "completed"
    },
    "tags": []
   },
   "outputs": [
    {
     "data": {
      "text/plain": [
       "0"
      ]
     },
     "execution_count": 13,
     "metadata": {},
     "output_type": "execute_result"
    }
   ],
   "source": [
    "pd.to_numeric(df1.TotalCharges,errors='coerce').isnull().sum()"
   ]
  },
  {
   "cell_type": "code",
   "execution_count": 14,
   "id": "ba0ab833",
   "metadata": {
    "execution": {
     "iopub.execute_input": "2023-07-01T19:01:57.311927Z",
     "iopub.status.busy": "2023-07-01T19:01:57.311525Z",
     "iopub.status.idle": "2023-07-01T19:01:57.322487Z",
     "shell.execute_reply": "2023-07-01T19:01:57.321455Z"
    },
    "papermill": {
     "duration": 0.045233,
     "end_time": "2023-07-01T19:01:57.324613",
     "exception": false,
     "start_time": "2023-07-01T19:01:57.279380",
     "status": "completed"
    },
    "tags": []
   },
   "outputs": [],
   "source": [
    "df1.TotalCharges = pd.to_numeric(df1.TotalCharges)"
   ]
  },
  {
   "cell_type": "code",
   "execution_count": 15,
   "id": "30a0ed34",
   "metadata": {
    "execution": {
     "iopub.execute_input": "2023-07-01T19:01:57.390708Z",
     "iopub.status.busy": "2023-07-01T19:01:57.390340Z",
     "iopub.status.idle": "2023-07-01T19:01:57.396491Z",
     "shell.execute_reply": "2023-07-01T19:01:57.395474Z"
    },
    "papermill": {
     "duration": 0.041387,
     "end_time": "2023-07-01T19:01:57.398681",
     "exception": false,
     "start_time": "2023-07-01T19:01:57.357294",
     "status": "completed"
    },
    "tags": []
   },
   "outputs": [
    {
     "data": {
      "text/plain": [
       "pandas.core.frame.DataFrame"
      ]
     },
     "execution_count": 15,
     "metadata": {},
     "output_type": "execute_result"
    }
   ],
   "source": [
    "type(df1)"
   ]
  },
  {
   "cell_type": "code",
   "execution_count": 16,
   "id": "32f01525",
   "metadata": {
    "execution": {
     "iopub.execute_input": "2023-07-01T19:01:57.463449Z",
     "iopub.status.busy": "2023-07-01T19:01:57.462751Z",
     "iopub.status.idle": "2023-07-01T19:01:57.469064Z",
     "shell.execute_reply": "2023-07-01T19:01:57.468031Z"
    },
    "papermill": {
     "duration": 0.04074,
     "end_time": "2023-07-01T19:01:57.471112",
     "exception": false,
     "start_time": "2023-07-01T19:01:57.430372",
     "status": "completed"
    },
    "tags": []
   },
   "outputs": [
    {
     "data": {
      "text/plain": [
       "(7032, 20)"
      ]
     },
     "execution_count": 16,
     "metadata": {},
     "output_type": "execute_result"
    }
   ],
   "source": [
    "df1.shape"
   ]
  },
  {
   "cell_type": "code",
   "execution_count": 17,
   "id": "48e1e345",
   "metadata": {
    "execution": {
     "iopub.execute_input": "2023-07-01T19:01:57.535450Z",
     "iopub.status.busy": "2023-07-01T19:01:57.535036Z",
     "iopub.status.idle": "2023-07-01T19:01:57.542980Z",
     "shell.execute_reply": "2023-07-01T19:01:57.542224Z"
    },
    "papermill": {
     "duration": 0.042427,
     "end_time": "2023-07-01T19:01:57.544859",
     "exception": false,
     "start_time": "2023-07-01T19:01:57.502432",
     "status": "completed"
    },
    "tags": []
   },
   "outputs": [
    {
     "data": {
      "text/plain": [
       "gender               object\n",
       "SeniorCitizen         int64\n",
       "Partner              object\n",
       "Dependents           object\n",
       "tenure                int64\n",
       "PhoneService         object\n",
       "MultipleLines        object\n",
       "InternetService      object\n",
       "OnlineSecurity       object\n",
       "OnlineBackup         object\n",
       "DeviceProtection     object\n",
       "TechSupport          object\n",
       "StreamingTV          object\n",
       "StreamingMovies      object\n",
       "Contract             object\n",
       "PaperlessBilling     object\n",
       "PaymentMethod        object\n",
       "MonthlyCharges      float64\n",
       "TotalCharges        float64\n",
       "Churn                object\n",
       "dtype: object"
      ]
     },
     "execution_count": 17,
     "metadata": {},
     "output_type": "execute_result"
    }
   ],
   "source": [
    "df1.dtypes"
   ]
  },
  {
   "cell_type": "markdown",
   "id": "6df4d25a",
   "metadata": {
    "papermill": {
     "duration": 0.030796,
     "end_time": "2023-07-01T19:01:57.606995",
     "exception": false,
     "start_time": "2023-07-01T19:01:57.576199",
     "status": "completed"
    },
    "tags": []
   },
   "source": [
    "# 4. Let's do some  Visualization"
   ]
  },
  {
   "cell_type": "code",
   "execution_count": 18,
   "id": "37e1ebb1",
   "metadata": {
    "execution": {
     "iopub.execute_input": "2023-07-01T19:01:57.671658Z",
     "iopub.status.busy": "2023-07-01T19:01:57.671262Z",
     "iopub.status.idle": "2023-07-01T19:01:58.117310Z",
     "shell.execute_reply": "2023-07-01T19:01:58.116138Z"
    },
    "papermill": {
     "duration": 0.481297,
     "end_time": "2023-07-01T19:01:58.119865",
     "exception": false,
     "start_time": "2023-07-01T19:01:57.638568",
     "status": "completed"
    },
    "tags": []
   },
   "outputs": [
    {
     "data": {
      "text/plain": [
       "<matplotlib.legend.Legend at 0x7caf775119f0>"
      ]
     },
     "execution_count": 18,
     "metadata": {},
     "output_type": "execute_result"
    },
    {
     "data": {
      "image/png": "[encoded data removed]",
      "text/plain": [
       "<Figure size 640x480 with 1 Axes>"
      ]
     },
     "metadata": {},
     "output_type": "display_data"
    }
   ],
   "source": [
    "tenure_churn_no = df1[df1.Churn=='No'].tenure\n",
    "tenure_churn_yes = df1[df1.Churn=='Yes'].tenure\n",
    "\n",
    "plt.xlabel(\"tenure\")\n",
    "plt.ylabel(\"Number Of Customers\")\n",
    "plt.title(\"Customer Churn Prediction Visualiztion\")\n",
    "\n",
    "plt.hist([tenure_churn_yes, tenure_churn_no], rwidth=0.95, color=['green','red'],label=['Churn=Yes','Churn=No'])\n",
    "plt.legend()\n"
   ]
  },
  {
   "cell_type": "code",
   "execution_count": 19,
   "id": "675f79cb",
   "metadata": {
    "execution": {
     "iopub.execute_input": "2023-07-01T19:01:58.186894Z",
     "iopub.status.busy": "2023-07-01T19:01:58.186500Z",
     "iopub.status.idle": "2023-07-01T19:01:58.606218Z",
     "shell.execute_reply": "2023-07-01T19:01:58.605100Z"
    },
    "papermill": {
     "duration": 0.456325,
     "end_time": "2023-07-01T19:01:58.608679",
     "exception": false,
     "start_time": "2023-07-01T19:01:58.152354",
     "status": "completed"
    },
    "tags": []
   },
   "outputs": [
    {
     "data": {
      "text/plain": [
       "<matplotlib.legend.Legend at 0x7caf8a341240>"
      ]
     },
     "execution_count": 19,
     "metadata": {},
     "output_type": "execute_result"
    },
    {
     "data": {
      "image/png": "[encoded data removed]",
      "text/plain": [
       "<Figure size 640x480 with 1 Axes>"
      ]
     },
     "metadata": {},
     "output_type": "display_data"
    }
   ],
   "source": [
    "mc_churn_no = df1[df1.Churn=='No'].MonthlyCharges      \n",
    "mc_churn_yes = df1[df1.Churn=='Yes'].MonthlyCharges      \n",
    "\n",
    "plt.xlabel(\"Monthly Charges\")\n",
    "plt.ylabel(\"Number Of Customers\")\n",
    "plt.title(\"Customer Churn Prediction Visualiztion\")\n",
    "\n",
    "plt.hist([mc_churn_yes, mc_churn_no], rwidth=0.95, color=['green','red'],label=['Churn=Yes','Churn=No'])\n",
    "plt.legend()"
   ]
  },
  {
   "cell_type": "markdown",
   "id": "2b618ceb",
   "metadata": {
    "papermill": {
     "duration": 0.035098,
     "end_time": "2023-07-01T19:01:58.678186",
     "exception": false,
     "start_time": "2023-07-01T19:01:58.643088",
     "status": "completed"
    },
    "tags": []
   },
   "source": [
    "# 5. Data Preprocessing"
   ]
  },
  {
   "cell_type": "markdown",
   "id": "77232feb",
   "metadata": {
    "papermill": {
     "duration": 0.032698,
     "end_time": "2023-07-01T19:01:58.744086",
     "exception": false,
     "start_time": "2023-07-01T19:01:58.711388",
     "status": "completed"
    },
    "tags": []
   },
   "source": [
    "**Many of the columns are yes, no etc. Let's print unique values in object columns to see data values**"
   ]
  },
  {
   "cell_type": "code",
   "execution_count": 20,
   "id": "f548102c",
   "metadata": {
    "execution": {
     "iopub.execute_input": "2023-07-01T19:01:58.812489Z",
     "iopub.status.busy": "2023-07-01T19:01:58.811785Z",
     "iopub.status.idle": "2023-07-01T19:01:58.816900Z",
     "shell.execute_reply": "2023-07-01T19:01:58.815840Z"
    },
    "papermill": {
     "duration": 0.042171,
     "end_time": "2023-07-01T19:01:58.819241",
     "exception": false,
     "start_time": "2023-07-01T19:01:58.777070",
     "status": "completed"
    },
    "tags": []
   },
   "outputs": [],
   "source": [
    "def print_unique_col_values(df):\n",
    "       for column in df:\n",
    "            if df[column].dtypes=='object':\n",
    "                print(f'{column}: {df[column].unique()}') "
   ]
  },
  {
   "cell_type": "code",
   "execution_count": 21,
   "id": "d004ffc6",
   "metadata": {
    "execution": {
     "iopub.execute_input": "2023-07-01T19:01:58.887346Z",
     "iopub.status.busy": "2023-07-01T19:01:58.886921Z",
     "iopub.status.idle": "2023-07-01T19:01:58.908607Z",
     "shell.execute_reply": "2023-07-01T19:01:58.907245Z"
    },
    "papermill": {
     "duration": 0.058654,
     "end_time": "2023-07-01T19:01:58.910773",
     "exception": false,
     "start_time": "2023-07-01T19:01:58.852119",
     "status": "completed"
    },
    "scrolled": true,
    "tags": []
   },
   "outputs": [
    {
     "name": "stdout",
     "output_type": "stream",
     "text": [
      "gender: ['Female' 'Male']\n",
      "Partner: ['Yes' 'No']\n",
      "Dependents: ['No' 'Yes']\n",
      "PhoneService: ['No' 'Yes']\n",
      "MultipleLines: ['No phone service' 'No' 'Yes']\n",
      "InternetService: ['DSL' 'Fiber optic' 'No']\n",
      "OnlineSecurity: ['No' 'Yes' 'No internet service']\n",
      "OnlineBackup: ['Yes' 'No' 'No internet service']\n",
      "DeviceProtection: ['No' 'Yes' 'No internet service']\n",
      "TechSupport: ['No' 'Yes' 'No internet service']\n",
      "StreamingTV: ['No' 'Yes' 'No internet service']\n",
      "StreamingMovies: ['No' 'Yes' 'No internet service']\n",
      "Contract: ['Month-to-month' 'One year' 'Two year']\n",
      "PaperlessBilling: ['Yes' 'No']\n",
      "PaymentMethod: ['Electronic check' 'Mailed check' 'Bank transfer (automatic)'\n",
      " 'Credit card (automatic)']\n",
      "Churn: ['No' 'Yes']\n"
     ]
    }
   ],
   "source": [
    "print_unique_col_values(df1)"
   ]
  },
  {
   "cell_type": "markdown",
   "id": "44d6139a",
   "metadata": {
    "papermill": {
     "duration": 0.032696,
     "end_time": "2023-07-01T19:01:58.976572",
     "exception": false,
     "start_time": "2023-07-01T19:01:58.943876",
     "status": "completed"
    },
    "tags": []
   },
   "source": [
    "**Some of the columns have no internet service or no phone service, that can be replaced with a simple No**"
   ]
  },
  {
   "cell_type": "code",
   "execution_count": 22,
   "id": "e5a55e39",
   "metadata": {
    "execution": {
     "iopub.execute_input": "2023-07-01T19:01:59.045037Z",
     "iopub.status.busy": "2023-07-01T19:01:59.044508Z",
     "iopub.status.idle": "2023-07-01T19:01:59.065067Z",
     "shell.execute_reply": "2023-07-01T19:01:59.063939Z"
    },
    "papermill": {
     "duration": 0.057336,
     "end_time": "2023-07-01T19:01:59.067572",
     "exception": false,
     "start_time": "2023-07-01T19:01:59.010236",
     "status": "completed"
    },
    "tags": []
   },
   "outputs": [],
   "source": [
    "df1.replace(\"No internet service\",\"No\",inplace=True)\n",
    "df1.replace(\"No phone service\",\"No\",inplace=True)"
   ]
  },
  {
   "cell_type": "code",
   "execution_count": 23,
   "id": "14d44928",
   "metadata": {
    "execution": {
     "iopub.execute_input": "2023-07-01T19:01:59.136665Z",
     "iopub.status.busy": "2023-07-01T19:01:59.136264Z",
     "iopub.status.idle": "2023-07-01T19:01:59.167973Z",
     "shell.execute_reply": "2023-07-01T19:01:59.166938Z"
    },
    "papermill": {
     "duration": 0.068864,
     "end_time": "2023-07-01T19:01:59.170402",
     "exception": false,
     "start_time": "2023-07-01T19:01:59.101538",
     "status": "completed"
    },
    "tags": []
   },
   "outputs": [
    {
     "data": {
      "text/html": [
       "<div>\n",
       "<style scoped>\n",
       "    .dataframe tbody tr th:only-of-type {\n",
       "        vertical-align: middle;\n",
       "    }\n",
       "\n",
       "    .dataframe tbody tr th {\n",
       "        vertical-align: top;\n",
       "    }\n",
       "\n",
       "    .dataframe thead th {\n",
       "        text-align: right;\n",
       "    }\n",
       "</style>\n",
       "<table border=\"1\" class=\"dataframe\">\n",
       "  <thead>\n",
       "    <tr style=\"text-align: right;\">\n",
       "      <th></th>\n",
       "      <th>gender</th>\n",
       "      <th>SeniorCitizen</th>\n",
       "      <th>Partner</th>\n",
       "      <th>Dependents</th>\n",
       "      <th>tenure</th>\n",
       "      <th>PhoneService</th>\n",
       "      <th>MultipleLines</th>\n",
       "      <th>InternetService</th>\n",
       "      <th>OnlineSecurity</th>\n",
       "      <th>OnlineBackup</th>\n",
       "      <th>DeviceProtection</th>\n",
       "      <th>TechSupport</th>\n",
       "      <th>StreamingTV</th>\n",
       "      <th>StreamingMovies</th>\n",
       "      <th>Contract</th>\n",
       "      <th>PaperlessBilling</th>\n",
       "      <th>PaymentMethod</th>\n",
       "      <th>MonthlyCharges</th>\n",
       "      <th>TotalCharges</th>\n",
       "      <th>Churn</th>\n",
       "    </tr>\n",
       "  </thead>\n",
       "  <tbody>\n",
       "    <tr>\n",
       "      <th>0</th>\n",
       "      <td>Female</td>\n",
       "      <td>0</td>\n",
       "      <td>Yes</td>\n",
       "      <td>No</td>\n",
       "      <td>1</td>\n",
       "      <td>No</td>\n",
       "      <td>No</td>\n",
       "      <td>DSL</td>\n",
       "      <td>No</td>\n",
       "      <td>Yes</td>\n",
       "      <td>No</td>\n",
       "      <td>No</td>\n",
       "      <td>No</td>\n",
       "      <td>No</td>\n",
       "      <td>Month-to-month</td>\n",
       "      <td>Yes</td>\n",
       "      <td>Electronic check</td>\n",
       "      <td>29.85</td>\n",
       "      <td>29.85</td>\n",
       "      <td>No</td>\n",
       "    </tr>\n",
       "    <tr>\n",
       "      <th>1</th>\n",
       "      <td>Male</td>\n",
       "      <td>0</td>\n",
       "      <td>No</td>\n",
       "      <td>No</td>\n",
       "      <td>34</td>\n",
       "      <td>Yes</td>\n",
       "      <td>No</td>\n",
       "      <td>DSL</td>\n",
       "      <td>Yes</td>\n",
       "      <td>No</td>\n",
       "      <td>Yes</td>\n",
       "      <td>No</td>\n",
       "      <td>No</td>\n",
       "      <td>No</td>\n",
       "      <td>One year</td>\n",
       "      <td>No</td>\n",
       "      <td>Mailed check</td>\n",
       "      <td>56.95</td>\n",
       "      <td>1889.50</td>\n",
       "      <td>No</td>\n",
       "    </tr>\n",
       "    <tr>\n",
       "      <th>2</th>\n",
       "      <td>Male</td>\n",
       "      <td>0</td>\n",
       "      <td>No</td>\n",
       "      <td>No</td>\n",
       "      <td>2</td>\n",
       "      <td>Yes</td>\n",
       "      <td>No</td>\n",
       "      <td>DSL</td>\n",
       "      <td>Yes</td>\n",
       "      <td>Yes</td>\n",
       "      <td>No</td>\n",
       "      <td>No</td>\n",
       "      <td>No</td>\n",
       "      <td>No</td>\n",
       "      <td>Month-to-month</td>\n",
       "      <td>Yes</td>\n",
       "      <td>Mailed check</td>\n",
       "      <td>53.85</td>\n",
       "      <td>108.15</td>\n",
       "      <td>Yes</td>\n",
       "    </tr>\n",
       "    <tr>\n",
       "      <th>3</th>\n",
       "      <td>Male</td>\n",
       "      <td>0</td>\n",
       "      <td>No</td>\n",
       "      <td>No</td>\n",
       "      <td>45</td>\n",
       "      <td>No</td>\n",
       "      <td>No</td>\n",
       "      <td>DSL</td>\n",
       "      <td>Yes</td>\n",
       "      <td>No</td>\n",
       "      <td>Yes</td>\n",
       "      <td>Yes</td>\n",
       "      <td>No</td>\n",
       "      <td>No</td>\n",
       "      <td>One year</td>\n",
       "      <td>No</td>\n",
       "      <td>Bank transfer (automatic)</td>\n",
       "      <td>42.30</td>\n",
       "      <td>1840.75</td>\n",
       "      <td>No</td>\n",
       "    </tr>\n",
       "    <tr>\n",
       "      <th>4</th>\n",
       "      <td>Female</td>\n",
       "      <td>0</td>\n",
       "      <td>No</td>\n",
       "      <td>No</td>\n",
       "      <td>2</td>\n",
       "      <td>Yes</td>\n",
       "      <td>No</td>\n",
       "      <td>Fiber optic</td>\n",
       "      <td>No</td>\n",
       "      <td>No</td>\n",
       "      <td>No</td>\n",
       "      <td>No</td>\n",
       "      <td>No</td>\n",
       "      <td>No</td>\n",
       "      <td>Month-to-month</td>\n",
       "      <td>Yes</td>\n",
       "      <td>Electronic check</td>\n",
       "      <td>70.70</td>\n",
       "      <td>151.65</td>\n",
       "      <td>Yes</td>\n",
       "    </tr>\n",
       "    <tr>\n",
       "      <th>...</th>\n",
       "      <td>...</td>\n",
       "      <td>...</td>\n",
       "      <td>...</td>\n",
       "      <td>...</td>\n",
       "      <td>...</td>\n",
       "      <td>...</td>\n",
       "      <td>...</td>\n",
       "      <td>...</td>\n",
       "      <td>...</td>\n",
       "      <td>...</td>\n",
       "      <td>...</td>\n",
       "      <td>...</td>\n",
       "      <td>...</td>\n",
       "      <td>...</td>\n",
       "      <td>...</td>\n",
       "      <td>...</td>\n",
       "      <td>...</td>\n",
       "      <td>...</td>\n",
       "      <td>...</td>\n",
       "      <td>...</td>\n",
       "    </tr>\n",
       "    <tr>\n",
       "      <th>7038</th>\n",
       "      <td>Male</td>\n",
       "      <td>0</td>\n",
       "      <td>Yes</td>\n",
       "      <td>Yes</td>\n",
       "      <td>24</td>\n",
       "      <td>Yes</td>\n",
       "      <td>Yes</td>\n",
       "      <td>DSL</td>\n",
       "      <td>Yes</td>\n",
       "      <td>No</td>\n",
       "      <td>Yes</td>\n",
       "      <td>Yes</td>\n",
       "      <td>Yes</td>\n",
       "      <td>Yes</td>\n",
       "      <td>One year</td>\n",
       "      <td>Yes</td>\n",
       "      <td>Mailed check</td>\n",
       "      <td>84.80</td>\n",
       "      <td>1990.50</td>\n",
       "      <td>No</td>\n",
       "    </tr>\n",
       "    <tr>\n",
       "      <th>7039</th>\n",
       "      <td>Female</td>\n",
       "      <td>0</td>\n",
       "      <td>Yes</td>\n",
       "      <td>Yes</td>\n",
       "      <td>72</td>\n",
       "      <td>Yes</td>\n",
       "      <td>Yes</td>\n",
       "      <td>Fiber optic</td>\n",
       "      <td>No</td>\n",
       "      <td>Yes</td>\n",
       "      <td>Yes</td>\n",
       "      <td>No</td>\n",
       "      <td>Yes</td>\n",
       "      <td>Yes</td>\n",
       "      <td>One year</td>\n",
       "      <td>Yes</td>\n",
       "      <td>Credit card (automatic)</td>\n",
       "      <td>103.20</td>\n",
       "      <td>7362.90</td>\n",
       "      <td>No</td>\n",
       "    </tr>\n",
       "    <tr>\n",
       "      <th>7040</th>\n",
       "      <td>Female</td>\n",
       "      <td>0</td>\n",
       "      <td>Yes</td>\n",
       "      <td>Yes</td>\n",
       "      <td>11</td>\n",
       "      <td>No</td>\n",
       "      <td>No</td>\n",
       "      <td>DSL</td>\n",
       "      <td>Yes</td>\n",
       "      <td>No</td>\n",
       "      <td>No</td>\n",
       "      <td>No</td>\n",
       "      <td>No</td>\n",
       "      <td>No</td>\n",
       "      <td>Month-to-month</td>\n",
       "      <td>Yes</td>\n",
       "      <td>Electronic check</td>\n",
       "      <td>29.60</td>\n",
       "      <td>346.45</td>\n",
       "      <td>No</td>\n",
       "    </tr>\n",
       "    <tr>\n",
       "      <th>7041</th>\n",
       "      <td>Male</td>\n",
       "      <td>1</td>\n",
       "      <td>Yes</td>\n",
       "      <td>No</td>\n",
       "      <td>4</td>\n",
       "      <td>Yes</td>\n",
       "      <td>Yes</td>\n",
       "      <td>Fiber optic</td>\n",
       "      <td>No</td>\n",
       "      <td>No</td>\n",
       "      <td>No</td>\n",
       "      <td>No</td>\n",
       "      <td>No</td>\n",
       "      <td>No</td>\n",
       "      <td>Month-to-month</td>\n",
       "      <td>Yes</td>\n",
       "      <td>Mailed check</td>\n",
       "      <td>74.40</td>\n",
       "      <td>306.60</td>\n",
       "      <td>Yes</td>\n",
       "    </tr>\n",
       "    <tr>\n",
       "      <th>7042</th>\n",
       "      <td>Male</td>\n",
       "      <td>0</td>\n",
       "      <td>No</td>\n",
       "      <td>No</td>\n",
       "      <td>66</td>\n",
       "      <td>Yes</td>\n",
       "      <td>No</td>\n",
       "      <td>Fiber optic</td>\n",
       "      <td>Yes</td>\n",
       "      <td>No</td>\n",
       "      <td>Yes</td>\n",
       "      <td>Yes</td>\n",
       "      <td>Yes</td>\n",
       "      <td>Yes</td>\n",
       "      <td>Two year</td>\n",
       "      <td>Yes</td>\n",
       "      <td>Bank transfer (automatic)</td>\n",
       "      <td>105.65</td>\n",
       "      <td>6844.50</td>\n",
       "      <td>No</td>\n",
       "    </tr>\n",
       "  </tbody>\n",
       "</table>\n",
       "<p>7032 rows × 20 columns</p>\n",
       "</div>"
      ],
      "text/plain": [
       "      gender  SeniorCitizen Partner Dependents  tenure PhoneService  \\\n",
       "0     Female              0     Yes         No       1           No   \n",
       "1       Male              0      No         No      34          Yes   \n",
       "2       Male              0      No         No       2          Yes   \n",
       "3       Male              0      No         No      45           No   \n",
       "4     Female              0      No         No       2          Yes   \n",
       "...      ...            ...     ...        ...     ...          ...   \n",
       "7038    Male              0     Yes        Yes      24          Yes   \n",
       "7039  Female              0     Yes        Yes      72          Yes   \n",
       "7040  Female              0     Yes        Yes      11           No   \n",
       "7041    Male              1     Yes         No       4          Yes   \n",
       "7042    Male              0      No         No      66          Yes   \n",
       "\n",
       "     MultipleLines InternetService OnlineSecurity OnlineBackup  \\\n",
       "0               No             DSL             No          Yes   \n",
       "1               No             DSL            Yes           No   \n",
       "2               No             DSL            Yes          Yes   \n",
       "3               No             DSL            Yes           No   \n",
       "4               No     Fiber optic             No           No   \n",
       "...            ...             ...            ...          ...   \n",
       "7038           Yes             DSL            Yes           No   \n",
       "7039           Yes     Fiber optic             No          Yes   \n",
       "7040            No             DSL            Yes           No   \n",
       "7041           Yes     Fiber optic             No           No   \n",
       "7042            No     Fiber optic            Yes           No   \n",
       "\n",
       "     DeviceProtection TechSupport StreamingTV StreamingMovies        Contract  \\\n",
       "0                  No          No          No              No  Month-to-month   \n",
       "1                 Yes          No          No              No        One year   \n",
       "2                  No          No          No              No  Month-to-month   \n",
       "3                 Yes         Yes          No              No        One year   \n",
       "4                  No          No          No              No  Month-to-month   \n",
       "...               ...         ...         ...             ...             ...   \n",
       "7038              Yes         Yes         Yes             Yes        One year   \n",
       "7039              Yes          No         Yes             Yes        One year   \n",
       "7040               No          No          No              No  Month-to-month   \n",
       "7041               No          No          No              No  Month-to-month   \n",
       "7042              Yes         Yes         Yes             Yes        Two year   \n",
       "\n",
       "     PaperlessBilling              PaymentMethod  MonthlyCharges  \\\n",
       "0                 Yes           Electronic check           29.85   \n",
       "1                  No               Mailed check           56.95   \n",
       "2                 Yes               Mailed check           53.85   \n",
       "3                  No  Bank transfer (automatic)           42.30   \n",
       "4                 Yes           Electronic check           70.70   \n",
       "...               ...                        ...             ...   \n",
       "7038              Yes               Mailed check           84.80   \n",
       "7039              Yes    Credit card (automatic)          103.20   \n",
       "7040              Yes           Electronic check           29.60   \n",
       "7041              Yes               Mailed check           74.40   \n",
       "7042              Yes  Bank transfer (automatic)          105.65   \n",
       "\n",
       "      TotalCharges Churn  \n",
       "0            29.85    No  \n",
       "1          1889.50    No  \n",
       "2           108.15   Yes  \n",
       "3          1840.75    No  \n",
       "4           151.65   Yes  \n",
       "...            ...   ...  \n",
       "7038       1990.50    No  \n",
       "7039       7362.90    No  \n",
       "7040        346.45    No  \n",
       "7041        306.60   Yes  \n",
       "7042       6844.50    No  \n",
       "\n",
       "[7032 rows x 20 columns]"
      ]
     },
     "execution_count": 23,
     "metadata": {},
     "output_type": "execute_result"
    }
   ],
   "source": [
    "df1"
   ]
  },
  {
   "cell_type": "markdown",
   "id": "102b905a",
   "metadata": {
    "papermill": {
     "duration": 0.03363,
     "end_time": "2023-07-01T19:01:59.239036",
     "exception": false,
     "start_time": "2023-07-01T19:01:59.205406",
     "status": "completed"
    },
    "tags": []
   },
   "source": [
    "**Convert Yes and No to 1 or 0**"
   ]
  },
  {
   "cell_type": "code",
   "execution_count": 24,
   "id": "87708bf9",
   "metadata": {
    "execution": {
     "iopub.execute_input": "2023-07-01T19:01:59.308546Z",
     "iopub.status.busy": "2023-07-01T19:01:59.308129Z",
     "iopub.status.idle": "2023-07-01T19:01:59.380448Z",
     "shell.execute_reply": "2023-07-01T19:01:59.379578Z"
    },
    "papermill": {
     "duration": 0.110261,
     "end_time": "2023-07-01T19:01:59.383104",
     "exception": false,
     "start_time": "2023-07-01T19:01:59.272843",
     "status": "completed"
    },
    "tags": []
   },
   "outputs": [],
   "source": [
    "yes_no_columns = ['Partner','Dependents','PhoneService','MultipleLines','OnlineSecurity','OnlineBackup',\n",
    "                  'DeviceProtection','TechSupport','StreamingTV','StreamingMovies','PaperlessBilling','Churn']\n",
    "for col in yes_no_columns:\n",
    "    df1[col].replace({'Yes': 1,'No': 0},inplace=True)"
   ]
  },
  {
   "cell_type": "code",
   "execution_count": 25,
   "id": "7ee95c89",
   "metadata": {
    "execution": {
     "iopub.execute_input": "2023-07-01T19:01:59.453022Z",
     "iopub.status.busy": "2023-07-01T19:01:59.452644Z",
     "iopub.status.idle": "2023-07-01T19:01:59.467958Z",
     "shell.execute_reply": "2023-07-01T19:01:59.466661Z"
    },
    "papermill": {
     "duration": 0.053261,
     "end_time": "2023-07-01T19:01:59.470374",
     "exception": false,
     "start_time": "2023-07-01T19:01:59.417113",
     "status": "completed"
    },
    "tags": []
   },
   "outputs": [
    {
     "name": "stdout",
     "output_type": "stream",
     "text": [
      "gender: ['Female' 'Male']\n",
      "SeniorCitizen: [0 1]\n",
      "Partner: [1 0]\n",
      "Dependents: [0 1]\n",
      "tenure: [ 1 34  2 45  8 22 10 28 62 13 16 58 49 25 69 52 71 21 12 30 47 72 17 27\n",
      "  5 46 11 70 63 43 15 60 18 66  9  3 31 50 64 56  7 42 35 48 29 65 38 68\n",
      " 32 55 37 36 41  6  4 33 67 23 57 61 14 20 53 40 59 24 44 19 54 51 26 39]\n",
      "PhoneService: [0 1]\n",
      "MultipleLines: [0 1]\n",
      "InternetService: ['DSL' 'Fiber optic' 'No']\n",
      "OnlineSecurity: [0 1]\n",
      "OnlineBackup: [1 0]\n",
      "DeviceProtection: [0 1]\n",
      "TechSupport: [0 1]\n",
      "StreamingTV: [0 1]\n",
      "StreamingMovies: [0 1]\n",
      "Contract: ['Month-to-month' 'One year' 'Two year']\n",
      "PaperlessBilling: [1 0]\n",
      "PaymentMethod: ['Electronic check' 'Mailed check' 'Bank transfer (automatic)'\n",
      " 'Credit card (automatic)']\n",
      "MonthlyCharges: [29.85 56.95 53.85 ... 63.1  44.2  78.7 ]\n",
      "TotalCharges: [  29.85 1889.5   108.15 ...  346.45  306.6  6844.5 ]\n",
      "Churn: [0 1]\n"
     ]
    }
   ],
   "source": [
    "for col in df1:\n",
    "    print(f'{col}: {df1[col].unique()}') "
   ]
  },
  {
   "cell_type": "markdown",
   "id": "5844a0b1",
   "metadata": {
    "papermill": {
     "duration": 0.033308,
     "end_time": "2023-07-01T19:01:59.537598",
     "exception": false,
     "start_time": "2023-07-01T19:01:59.504290",
     "status": "completed"
    },
    "tags": []
   },
   "source": [
    "**One hot encoding for categorical columns**"
   ]
  },
  {
   "cell_type": "code",
   "execution_count": 26,
   "id": "7e1379ed",
   "metadata": {
    "execution": {
     "iopub.execute_input": "2023-07-01T19:01:59.607052Z",
     "iopub.status.busy": "2023-07-01T19:01:59.606087Z",
     "iopub.status.idle": "2023-07-01T19:01:59.617053Z",
     "shell.execute_reply": "2023-07-01T19:01:59.616290Z"
    },
    "papermill": {
     "duration": 0.048095,
     "end_time": "2023-07-01T19:01:59.619365",
     "exception": false,
     "start_time": "2023-07-01T19:01:59.571270",
     "status": "completed"
    },
    "tags": []
   },
   "outputs": [],
   "source": [
    "df1['gender'].replace({'Male': 1,'Female': 0},inplace=True)"
   ]
  },
  {
   "cell_type": "code",
   "execution_count": 27,
   "id": "5c71b5c4",
   "metadata": {
    "execution": {
     "iopub.execute_input": "2023-07-01T19:01:59.701623Z",
     "iopub.status.busy": "2023-07-01T19:01:59.701165Z",
     "iopub.status.idle": "2023-07-01T19:01:59.714358Z",
     "shell.execute_reply": "2023-07-01T19:01:59.713186Z"
    },
    "papermill": {
     "duration": 0.061003,
     "end_time": "2023-07-01T19:01:59.716506",
     "exception": false,
     "start_time": "2023-07-01T19:01:59.655503",
     "status": "completed"
    },
    "tags": []
   },
   "outputs": [
    {
     "name": "stdout",
     "output_type": "stream",
     "text": [
      "gender: [0 1]\n",
      "SeniorCitizen: [0 1]\n",
      "Partner: [1 0]\n",
      "Dependents: [0 1]\n",
      "tenure: [ 1 34  2 45  8 22 10 28 62 13 16 58 49 25 69 52 71 21 12 30 47 72 17 27\n",
      "  5 46 11 70 63 43 15 60 18 66  9  3 31 50 64 56  7 42 35 48 29 65 38 68\n",
      " 32 55 37 36 41  6  4 33 67 23 57 61 14 20 53 40 59 24 44 19 54 51 26 39]\n",
      "PhoneService: [0 1]\n",
      "MultipleLines: [0 1]\n",
      "InternetService: ['DSL' 'Fiber optic' 'No']\n",
      "OnlineSecurity: [0 1]\n",
      "OnlineBackup: [1 0]\n",
      "DeviceProtection: [0 1]\n",
      "TechSupport: [0 1]\n",
      "StreamingTV: [0 1]\n",
      "StreamingMovies: [0 1]\n",
      "Contract: ['Month-to-month' 'One year' 'Two year']\n",
      "PaperlessBilling: [1 0]\n",
      "PaymentMethod: ['Electronic check' 'Mailed check' 'Bank transfer (automatic)'\n",
      " 'Credit card (automatic)']\n",
      "MonthlyCharges: [29.85 56.95 53.85 ... 63.1  44.2  78.7 ]\n",
      "TotalCharges: [  29.85 1889.5   108.15 ...  346.45  306.6  6844.5 ]\n",
      "Churn: [0 1]\n"
     ]
    }
   ],
   "source": [
    "for col in df1:\n",
    "    print(f'{col}: {df1[col].unique()}') "
   ]
  },
  {
   "cell_type": "code",
   "execution_count": 28,
   "id": "ef3b1356",
   "metadata": {
    "execution": {
     "iopub.execute_input": "2023-07-01T19:01:59.787370Z",
     "iopub.status.busy": "2023-07-01T19:01:59.786693Z",
     "iopub.status.idle": "2023-07-01T19:01:59.803267Z",
     "shell.execute_reply": "2023-07-01T19:01:59.802088Z"
    },
    "papermill": {
     "duration": 0.054908,
     "end_time": "2023-07-01T19:01:59.805803",
     "exception": false,
     "start_time": "2023-07-01T19:01:59.750895",
     "status": "completed"
    },
    "tags": []
   },
   "outputs": [],
   "source": [
    "df1 = pd.get_dummies(df1,['Contract','PaymentMethod','InternetService'])"
   ]
  },
  {
   "cell_type": "code",
   "execution_count": 29,
   "id": "ffa6a4be",
   "metadata": {
    "execution": {
     "iopub.execute_input": "2023-07-01T19:01:59.876210Z",
     "iopub.status.busy": "2023-07-01T19:01:59.875783Z",
     "iopub.status.idle": "2023-07-01T19:01:59.900858Z",
     "shell.execute_reply": "2023-07-01T19:01:59.899760Z"
    },
    "papermill": {
     "duration": 0.062972,
     "end_time": "2023-07-01T19:01:59.903221",
     "exception": false,
     "start_time": "2023-07-01T19:01:59.840249",
     "status": "completed"
    },
    "tags": []
   },
   "outputs": [
    {
     "data": {
      "text/html": [
       "<div>\n",
       "<style scoped>\n",
       "    .dataframe tbody tr th:only-of-type {\n",
       "        vertical-align: middle;\n",
       "    }\n",
       "\n",
       "    .dataframe tbody tr th {\n",
       "        vertical-align: top;\n",
       "    }\n",
       "\n",
       "    .dataframe thead th {\n",
       "        text-align: right;\n",
       "    }\n",
       "</style>\n",
       "<table border=\"1\" class=\"dataframe\">\n",
       "  <thead>\n",
       "    <tr style=\"text-align: right;\">\n",
       "      <th></th>\n",
       "      <th>gender</th>\n",
       "      <th>SeniorCitizen</th>\n",
       "      <th>Partner</th>\n",
       "      <th>Dependents</th>\n",
       "      <th>tenure</th>\n",
       "      <th>PhoneService</th>\n",
       "      <th>MultipleLines</th>\n",
       "      <th>OnlineSecurity</th>\n",
       "      <th>OnlineBackup</th>\n",
       "      <th>DeviceProtection</th>\n",
       "      <th>...</th>\n",
       "      <th>Contract_DSL</th>\n",
       "      <th>Contract_Fiber optic</th>\n",
       "      <th>Contract_No</th>\n",
       "      <th>PaymentMethod_Month-to-month</th>\n",
       "      <th>PaymentMethod_One year</th>\n",
       "      <th>PaymentMethod_Two year</th>\n",
       "      <th>InternetService_Bank transfer (automatic)</th>\n",
       "      <th>InternetService_Credit card (automatic)</th>\n",
       "      <th>InternetService_Electronic check</th>\n",
       "      <th>InternetService_Mailed check</th>\n",
       "    </tr>\n",
       "  </thead>\n",
       "  <tbody>\n",
       "    <tr>\n",
       "      <th>0</th>\n",
       "      <td>0</td>\n",
       "      <td>0</td>\n",
       "      <td>1</td>\n",
       "      <td>0</td>\n",
       "      <td>1</td>\n",
       "      <td>0</td>\n",
       "      <td>0</td>\n",
       "      <td>0</td>\n",
       "      <td>1</td>\n",
       "      <td>0</td>\n",
       "      <td>...</td>\n",
       "      <td>1</td>\n",
       "      <td>0</td>\n",
       "      <td>0</td>\n",
       "      <td>1</td>\n",
       "      <td>0</td>\n",
       "      <td>0</td>\n",
       "      <td>0</td>\n",
       "      <td>0</td>\n",
       "      <td>1</td>\n",
       "      <td>0</td>\n",
       "    </tr>\n",
       "    <tr>\n",
       "      <th>1</th>\n",
       "      <td>1</td>\n",
       "      <td>0</td>\n",
       "      <td>0</td>\n",
       "      <td>0</td>\n",
       "      <td>34</td>\n",
       "      <td>1</td>\n",
       "      <td>0</td>\n",
       "      <td>1</td>\n",
       "      <td>0</td>\n",
       "      <td>1</td>\n",
       "      <td>...</td>\n",
       "      <td>1</td>\n",
       "      <td>0</td>\n",
       "      <td>0</td>\n",
       "      <td>0</td>\n",
       "      <td>1</td>\n",
       "      <td>0</td>\n",
       "      <td>0</td>\n",
       "      <td>0</td>\n",
       "      <td>0</td>\n",
       "      <td>1</td>\n",
       "    </tr>\n",
       "    <tr>\n",
       "      <th>2</th>\n",
       "      <td>1</td>\n",
       "      <td>0</td>\n",
       "      <td>0</td>\n",
       "      <td>0</td>\n",
       "      <td>2</td>\n",
       "      <td>1</td>\n",
       "      <td>0</td>\n",
       "      <td>1</td>\n",
       "      <td>1</td>\n",
       "      <td>0</td>\n",
       "      <td>...</td>\n",
       "      <td>1</td>\n",
       "      <td>0</td>\n",
       "      <td>0</td>\n",
       "      <td>1</td>\n",
       "      <td>0</td>\n",
       "      <td>0</td>\n",
       "      <td>0</td>\n",
       "      <td>0</td>\n",
       "      <td>0</td>\n",
       "      <td>1</td>\n",
       "    </tr>\n",
       "    <tr>\n",
       "      <th>3</th>\n",
       "      <td>1</td>\n",
       "      <td>0</td>\n",
       "      <td>0</td>\n",
       "      <td>0</td>\n",
       "      <td>45</td>\n",
       "      <td>0</td>\n",
       "      <td>0</td>\n",
       "      <td>1</td>\n",
       "      <td>0</td>\n",
       "      <td>1</td>\n",
       "      <td>...</td>\n",
       "      <td>1</td>\n",
       "      <td>0</td>\n",
       "      <td>0</td>\n",
       "      <td>0</td>\n",
       "      <td>1</td>\n",
       "      <td>0</td>\n",
       "      <td>1</td>\n",
       "      <td>0</td>\n",
       "      <td>0</td>\n",
       "      <td>0</td>\n",
       "    </tr>\n",
       "    <tr>\n",
       "      <th>4</th>\n",
       "      <td>0</td>\n",
       "      <td>0</td>\n",
       "      <td>0</td>\n",
       "      <td>0</td>\n",
       "      <td>2</td>\n",
       "      <td>1</td>\n",
       "      <td>0</td>\n",
       "      <td>0</td>\n",
       "      <td>0</td>\n",
       "      <td>0</td>\n",
       "      <td>...</td>\n",
       "      <td>0</td>\n",
       "      <td>1</td>\n",
       "      <td>0</td>\n",
       "      <td>1</td>\n",
       "      <td>0</td>\n",
       "      <td>0</td>\n",
       "      <td>0</td>\n",
       "      <td>0</td>\n",
       "      <td>1</td>\n",
       "      <td>0</td>\n",
       "    </tr>\n",
       "    <tr>\n",
       "      <th>...</th>\n",
       "      <td>...</td>\n",
       "      <td>...</td>\n",
       "      <td>...</td>\n",
       "      <td>...</td>\n",
       "      <td>...</td>\n",
       "      <td>...</td>\n",
       "      <td>...</td>\n",
       "      <td>...</td>\n",
       "      <td>...</td>\n",
       "      <td>...</td>\n",
       "      <td>...</td>\n",
       "      <td>...</td>\n",
       "      <td>...</td>\n",
       "      <td>...</td>\n",
       "      <td>...</td>\n",
       "      <td>...</td>\n",
       "      <td>...</td>\n",
       "      <td>...</td>\n",
       "      <td>...</td>\n",
       "      <td>...</td>\n",
       "      <td>...</td>\n",
       "    </tr>\n",
       "    <tr>\n",
       "      <th>7038</th>\n",
       "      <td>1</td>\n",
       "      <td>0</td>\n",
       "      <td>1</td>\n",
       "      <td>1</td>\n",
       "      <td>24</td>\n",
       "      <td>1</td>\n",
       "      <td>1</td>\n",
       "      <td>1</td>\n",
       "      <td>0</td>\n",
       "      <td>1</td>\n",
       "      <td>...</td>\n",
       "      <td>1</td>\n",
       "      <td>0</td>\n",
       "      <td>0</td>\n",
       "      <td>0</td>\n",
       "      <td>1</td>\n",
       "      <td>0</td>\n",
       "      <td>0</td>\n",
       "      <td>0</td>\n",
       "      <td>0</td>\n",
       "      <td>1</td>\n",
       "    </tr>\n",
       "    <tr>\n",
       "      <th>7039</th>\n",
       "      <td>0</td>\n",
       "      <td>0</td>\n",
       "      <td>1</td>\n",
       "      <td>1</td>\n",
       "      <td>72</td>\n",
       "      <td>1</td>\n",
       "      <td>1</td>\n",
       "      <td>0</td>\n",
       "      <td>1</td>\n",
       "      <td>1</td>\n",
       "      <td>...</td>\n",
       "      <td>0</td>\n",
       "      <td>1</td>\n",
       "      <td>0</td>\n",
       "      <td>0</td>\n",
       "      <td>1</td>\n",
       "      <td>0</td>\n",
       "      <td>0</td>\n",
       "      <td>1</td>\n",
       "      <td>0</td>\n",
       "      <td>0</td>\n",
       "    </tr>\n",
       "    <tr>\n",
       "      <th>7040</th>\n",
       "      <td>0</td>\n",
       "      <td>0</td>\n",
       "      <td>1</td>\n",
       "      <td>1</td>\n",
       "      <td>11</td>\n",
       "      <td>0</td>\n",
       "      <td>0</td>\n",
       "      <td>1</td>\n",
       "      <td>0</td>\n",
       "      <td>0</td>\n",
       "      <td>...</td>\n",
       "      <td>1</td>\n",
       "      <td>0</td>\n",
       "      <td>0</td>\n",
       "      <td>1</td>\n",
       "      <td>0</td>\n",
       "      <td>0</td>\n",
       "      <td>0</td>\n",
       "      <td>0</td>\n",
       "      <td>1</td>\n",
       "      <td>0</td>\n",
       "    </tr>\n",
       "    <tr>\n",
       "      <th>7041</th>\n",
       "      <td>1</td>\n",
       "      <td>1</td>\n",
       "      <td>1</td>\n",
       "      <td>0</td>\n",
       "      <td>4</td>\n",
       "      <td>1</td>\n",
       "      <td>1</td>\n",
       "      <td>0</td>\n",
       "      <td>0</td>\n",
       "      <td>0</td>\n",
       "      <td>...</td>\n",
       "      <td>0</td>\n",
       "      <td>1</td>\n",
       "      <td>0</td>\n",
       "      <td>1</td>\n",
       "      <td>0</td>\n",
       "      <td>0</td>\n",
       "      <td>0</td>\n",
       "      <td>0</td>\n",
       "      <td>0</td>\n",
       "      <td>1</td>\n",
       "    </tr>\n",
       "    <tr>\n",
       "      <th>7042</th>\n",
       "      <td>1</td>\n",
       "      <td>0</td>\n",
       "      <td>0</td>\n",
       "      <td>0</td>\n",
       "      <td>66</td>\n",
       "      <td>1</td>\n",
       "      <td>0</td>\n",
       "      <td>1</td>\n",
       "      <td>0</td>\n",
       "      <td>1</td>\n",
       "      <td>...</td>\n",
       "      <td>0</td>\n",
       "      <td>1</td>\n",
       "      <td>0</td>\n",
       "      <td>0</td>\n",
       "      <td>0</td>\n",
       "      <td>1</td>\n",
       "      <td>1</td>\n",
       "      <td>0</td>\n",
       "      <td>0</td>\n",
       "      <td>0</td>\n",
       "    </tr>\n",
       "  </tbody>\n",
       "</table>\n",
       "<p>7032 rows × 27 columns</p>\n",
       "</div>"
      ],
      "text/plain": [
       "      gender  SeniorCitizen  Partner  Dependents  tenure  PhoneService  \\\n",
       "0          0              0        1           0       1             0   \n",
       "1          1              0        0           0      34             1   \n",
       "2          1              0        0           0       2             1   \n",
       "3          1              0        0           0      45             0   \n",
       "4          0              0        0           0       2             1   \n",
       "...      ...            ...      ...         ...     ...           ...   \n",
       "7038       1              0        1           1      24             1   \n",
       "7039       0              0        1           1      72             1   \n",
       "7040       0              0        1           1      11             0   \n",
       "7041       1              1        1           0       4             1   \n",
       "7042       1              0        0           0      66             1   \n",
       "\n",
       "      MultipleLines  OnlineSecurity  OnlineBackup  DeviceProtection  ...  \\\n",
       "0                 0               0             1                 0  ...   \n",
       "1                 0               1             0                 1  ...   \n",
       "2                 0               1             1                 0  ...   \n",
       "3                 0               1             0                 1  ...   \n",
       "4                 0               0             0                 0  ...   \n",
       "...             ...             ...           ...               ...  ...   \n",
       "7038              1               1             0                 1  ...   \n",
       "7039              1               0             1                 1  ...   \n",
       "7040              0               1             0                 0  ...   \n",
       "7041              1               0             0                 0  ...   \n",
       "7042              0               1             0                 1  ...   \n",
       "\n",
       "      Contract_DSL  Contract_Fiber optic  Contract_No  \\\n",
       "0                1                     0            0   \n",
       "1                1                     0            0   \n",
       "2                1                     0            0   \n",
       "3                1                     0            0   \n",
       "4                0                     1            0   \n",
       "...            ...                   ...          ...   \n",
       "7038             1                     0            0   \n",
       "7039             0                     1            0   \n",
       "7040             1                     0            0   \n",
       "7041             0                     1            0   \n",
       "7042             0                     1            0   \n",
       "\n",
       "      PaymentMethod_Month-to-month  PaymentMethod_One year  \\\n",
       "0                                1                       0   \n",
       "1                                0                       1   \n",
       "2                                1                       0   \n",
       "3                                0                       1   \n",
       "4                                1                       0   \n",
       "...                            ...                     ...   \n",
       "7038                             0                       1   \n",
       "7039                             0                       1   \n",
       "7040                             1                       0   \n",
       "7041                             1                       0   \n",
       "7042                             0                       0   \n",
       "\n",
       "      PaymentMethod_Two year  InternetService_Bank transfer (automatic)  \\\n",
       "0                          0                                          0   \n",
       "1                          0                                          0   \n",
       "2                          0                                          0   \n",
       "3                          0                                          1   \n",
       "4                          0                                          0   \n",
       "...                      ...                                        ...   \n",
       "7038                       0                                          0   \n",
       "7039                       0                                          0   \n",
       "7040                       0                                          0   \n",
       "7041                       0                                          0   \n",
       "7042                       1                                          1   \n",
       "\n",
       "      InternetService_Credit card (automatic)  \\\n",
       "0                                           0   \n",
       "1                                           0   \n",
       "2                                           0   \n",
       "3                                           0   \n",
       "4                                           0   \n",
       "...                                       ...   \n",
       "7038                                        0   \n",
       "7039                                        1   \n",
       "7040                                        0   \n",
       "7041                                        0   \n",
       "7042                                        0   \n",
       "\n",
       "      InternetService_Electronic check  InternetService_Mailed check  \n",
       "0                                    1                             0  \n",
       "1                                    0                             1  \n",
       "2                                    0                             1  \n",
       "3                                    0                             0  \n",
       "4                                    1                             0  \n",
       "...                                ...                           ...  \n",
       "7038                                 0                             1  \n",
       "7039                                 0                             0  \n",
       "7040                                 1                             0  \n",
       "7041                                 0                             1  \n",
       "7042                                 0                             0  \n",
       "\n",
       "[7032 rows x 27 columns]"
      ]
     },
     "execution_count": 29,
     "metadata": {},
     "output_type": "execute_result"
    }
   ],
   "source": [
    "df1"
   ]
  },
  {
   "cell_type": "code",
   "execution_count": 30,
   "id": "1ff29906",
   "metadata": {
    "execution": {
     "iopub.execute_input": "2023-07-01T19:01:59.975276Z",
     "iopub.status.busy": "2023-07-01T19:01:59.974627Z",
     "iopub.status.idle": "2023-07-01T19:01:59.997309Z",
     "shell.execute_reply": "2023-07-01T19:01:59.996249Z"
    },
    "papermill": {
     "duration": 0.061591,
     "end_time": "2023-07-01T19:01:59.999640",
     "exception": false,
     "start_time": "2023-07-01T19:01:59.938049",
     "status": "completed"
    },
    "tags": []
   },
   "outputs": [
    {
     "data": {
      "text/html": [
       "<div>\n",
       "<style scoped>\n",
       "    .dataframe tbody tr th:only-of-type {\n",
       "        vertical-align: middle;\n",
       "    }\n",
       "\n",
       "    .dataframe tbody tr th {\n",
       "        vertical-align: top;\n",
       "    }\n",
       "\n",
       "    .dataframe thead th {\n",
       "        text-align: right;\n",
       "    }\n",
       "</style>\n",
       "<table border=\"1\" class=\"dataframe\">\n",
       "  <thead>\n",
       "    <tr style=\"text-align: right;\">\n",
       "      <th></th>\n",
       "      <th>tenure</th>\n",
       "      <th>MonthlyCharges</th>\n",
       "      <th>TotalCharges</th>\n",
       "    </tr>\n",
       "  </thead>\n",
       "  <tbody>\n",
       "    <tr>\n",
       "      <th>count</th>\n",
       "      <td>7032.000000</td>\n",
       "      <td>7032.000000</td>\n",
       "      <td>7032.000000</td>\n",
       "    </tr>\n",
       "    <tr>\n",
       "      <th>mean</th>\n",
       "      <td>32.421786</td>\n",
       "      <td>64.798208</td>\n",
       "      <td>2283.300441</td>\n",
       "    </tr>\n",
       "    <tr>\n",
       "      <th>std</th>\n",
       "      <td>24.545260</td>\n",
       "      <td>30.085974</td>\n",
       "      <td>2266.771362</td>\n",
       "    </tr>\n",
       "    <tr>\n",
       "      <th>min</th>\n",
       "      <td>1.000000</td>\n",
       "      <td>18.250000</td>\n",
       "      <td>18.800000</td>\n",
       "    </tr>\n",
       "    <tr>\n",
       "      <th>25%</th>\n",
       "      <td>9.000000</td>\n",
       "      <td>35.587500</td>\n",
       "      <td>401.450000</td>\n",
       "    </tr>\n",
       "    <tr>\n",
       "      <th>50%</th>\n",
       "      <td>29.000000</td>\n",
       "      <td>70.350000</td>\n",
       "      <td>1397.475000</td>\n",
       "    </tr>\n",
       "    <tr>\n",
       "      <th>75%</th>\n",
       "      <td>55.000000</td>\n",
       "      <td>89.862500</td>\n",
       "      <td>3794.737500</td>\n",
       "    </tr>\n",
       "    <tr>\n",
       "      <th>max</th>\n",
       "      <td>72.000000</td>\n",
       "      <td>118.750000</td>\n",
       "      <td>8684.800000</td>\n",
       "    </tr>\n",
       "  </tbody>\n",
       "</table>\n",
       "</div>"
      ],
      "text/plain": [
       "            tenure  MonthlyCharges  TotalCharges\n",
       "count  7032.000000     7032.000000   7032.000000\n",
       "mean     32.421786       64.798208   2283.300441\n",
       "std      24.545260       30.085974   2266.771362\n",
       "min       1.000000       18.250000     18.800000\n",
       "25%       9.000000       35.587500    401.450000\n",
       "50%      29.000000       70.350000   1397.475000\n",
       "75%      55.000000       89.862500   3794.737500\n",
       "max      72.000000      118.750000   8684.800000"
      ]
     },
     "execution_count": 30,
     "metadata": {},
     "output_type": "execute_result"
    }
   ],
   "source": [
    "df1[['tenure','MonthlyCharges','TotalCharges']].describe()"
   ]
  },
  {
   "cell_type": "markdown",
   "id": "c0c4b776",
   "metadata": {
    "papermill": {
     "duration": 0.035703,
     "end_time": "2023-07-01T19:02:00.070979",
     "exception": false,
     "start_time": "2023-07-01T19:02:00.035276",
     "status": "completed"
    },
    "tags": []
   },
   "source": [
    "**Scaling**"
   ]
  },
  {
   "cell_type": "code",
   "execution_count": 31,
   "id": "8bf21bd6",
   "metadata": {
    "execution": {
     "iopub.execute_input": "2023-07-01T19:02:00.143854Z",
     "iopub.status.busy": "2023-07-01T19:02:00.143487Z",
     "iopub.status.idle": "2023-07-01T19:02:00.149962Z",
     "shell.execute_reply": "2023-07-01T19:02:00.148901Z"
    },
    "papermill": {
     "duration": 0.046439,
     "end_time": "2023-07-01T19:02:00.152706",
     "exception": false,
     "start_time": "2023-07-01T19:02:00.106267",
     "status": "completed"
    },
    "tags": []
   },
   "outputs": [
    {
     "data": {
      "text/plain": [
       "Index(['gender', 'SeniorCitizen', 'Partner', 'Dependents', 'tenure',\n",
       "       'PhoneService', 'MultipleLines', 'OnlineSecurity', 'OnlineBackup',\n",
       "       'DeviceProtection', 'TechSupport', 'StreamingTV', 'StreamingMovies',\n",
       "       'PaperlessBilling', 'MonthlyCharges', 'TotalCharges', 'Churn',\n",
       "       'Contract_DSL', 'Contract_Fiber optic', 'Contract_No',\n",
       "       'PaymentMethod_Month-to-month', 'PaymentMethod_One year',\n",
       "       'PaymentMethod_Two year', 'InternetService_Bank transfer (automatic)',\n",
       "       'InternetService_Credit card (automatic)',\n",
       "       'InternetService_Electronic check', 'InternetService_Mailed check'],\n",
       "      dtype='object')"
      ]
     },
     "execution_count": 31,
     "metadata": {},
     "output_type": "execute_result"
    }
   ],
   "source": [
    "df1.columns"
   ]
  },
  {
   "cell_type": "code",
   "execution_count": 32,
   "id": "da697f48",
   "metadata": {
    "execution": {
     "iopub.execute_input": "2023-07-01T19:02:00.225609Z",
     "iopub.status.busy": "2023-07-01T19:02:00.225198Z",
     "iopub.status.idle": "2023-07-01T19:02:00.236721Z",
     "shell.execute_reply": "2023-07-01T19:02:00.235945Z"
    },
    "papermill": {
     "duration": 0.050866,
     "end_time": "2023-07-01T19:02:00.238817",
     "exception": false,
     "start_time": "2023-07-01T19:02:00.187951",
     "status": "completed"
    },
    "tags": []
   },
   "outputs": [],
   "source": [
    "cols_to_scale = ['tenure','MonthlyCharges','TotalCharges']\n",
    "\n",
    "scaler = MinMaxScaler()\n",
    "df1[cols_to_scale] = scaler.fit_transform(df1[cols_to_scale])\n"
   ]
  },
  {
   "cell_type": "code",
   "execution_count": 33,
   "id": "b61c3bbb",
   "metadata": {
    "execution": {
     "iopub.execute_input": "2023-07-01T19:02:00.311851Z",
     "iopub.status.busy": "2023-07-01T19:02:00.311173Z",
     "iopub.status.idle": "2023-07-01T19:02:00.326679Z",
     "shell.execute_reply": "2023-07-01T19:02:00.325607Z"
    },
    "papermill": {
     "duration": 0.054635,
     "end_time": "2023-07-01T19:02:00.329191",
     "exception": false,
     "start_time": "2023-07-01T19:02:00.274556",
     "status": "completed"
    },
    "tags": []
   },
   "outputs": [
    {
     "name": "stdout",
     "output_type": "stream",
     "text": [
      "gender: [0 1]\n",
      "SeniorCitizen: [0 1]\n",
      "Partner: [1 0]\n",
      "Dependents: [0 1]\n",
      "tenure: [0.         0.46478873 0.01408451 0.61971831 0.09859155 0.29577465\n",
      " 0.12676056 0.38028169 0.85915493 0.16901408 0.21126761 0.8028169\n",
      " 0.67605634 0.33802817 0.95774648 0.71830986 0.98591549 0.28169014\n",
      " 0.15492958 0.4084507  0.64788732 1.         0.22535211 0.36619718\n",
      " 0.05633803 0.63380282 0.14084507 0.97183099 0.87323944 0.5915493\n",
      " 0.1971831  0.83098592 0.23943662 0.91549296 0.11267606 0.02816901\n",
      " 0.42253521 0.69014085 0.88732394 0.77464789 0.08450704 0.57746479\n",
      " 0.47887324 0.66197183 0.3943662  0.90140845 0.52112676 0.94366197\n",
      " 0.43661972 0.76056338 0.50704225 0.49295775 0.56338028 0.07042254\n",
      " 0.04225352 0.45070423 0.92957746 0.30985915 0.78873239 0.84507042\n",
      " 0.18309859 0.26760563 0.73239437 0.54929577 0.81690141 0.32394366\n",
      " 0.6056338  0.25352113 0.74647887 0.70422535 0.35211268 0.53521127]\n",
      "PhoneService: [0 1]\n",
      "MultipleLines: [0 1]\n",
      "OnlineSecurity: [0 1]\n",
      "OnlineBackup: [1 0]\n",
      "DeviceProtection: [0 1]\n",
      "TechSupport: [0 1]\n",
      "StreamingTV: [0 1]\n",
      "StreamingMovies: [0 1]\n",
      "PaperlessBilling: [1 0]\n",
      "MonthlyCharges: [0.11542289 0.38507463 0.35422886 ... 0.44626866 0.25820896 0.60149254]\n",
      "TotalCharges: [0.0012751  0.21586661 0.01031041 ... 0.03780868 0.03321025 0.78764136]\n",
      "Churn: [0 1]\n",
      "Contract_DSL: [1 0]\n",
      "Contract_Fiber optic: [0 1]\n",
      "Contract_No: [0 1]\n",
      "PaymentMethod_Month-to-month: [1 0]\n",
      "PaymentMethod_One year: [0 1]\n",
      "PaymentMethod_Two year: [0 1]\n",
      "InternetService_Bank transfer (automatic): [0 1]\n",
      "InternetService_Credit card (automatic): [0 1]\n",
      "InternetService_Electronic check: [1 0]\n",
      "InternetService_Mailed check: [0 1]\n"
     ]
    }
   ],
   "source": [
    "for col in df1:\n",
    "    print(f'{col}: {df1[col].unique()}')"
   ]
  },
  {
   "cell_type": "markdown",
   "id": "e594a94d",
   "metadata": {
    "papermill": {
     "duration": 0.035175,
     "end_time": "2023-07-01T19:02:00.399959",
     "exception": false,
     "start_time": "2023-07-01T19:02:00.364784",
     "status": "completed"
    },
    "tags": []
   },
   "source": [
    "## Train test split"
   ]
  },
  {
   "cell_type": "code",
   "execution_count": 34,
   "id": "26b34772",
   "metadata": {
    "execution": {
     "iopub.execute_input": "2023-07-01T19:02:00.472706Z",
     "iopub.status.busy": "2023-07-01T19:02:00.472355Z",
     "iopub.status.idle": "2023-07-01T19:02:00.487487Z",
     "shell.execute_reply": "2023-07-01T19:02:00.486529Z"
    },
    "papermill": {
     "duration": 0.054786,
     "end_time": "2023-07-01T19:02:00.489860",
     "exception": false,
     "start_time": "2023-07-01T19:02:00.435074",
     "status": "completed"
    },
    "tags": []
   },
   "outputs": [],
   "source": [
    "X = df1.drop('Churn',axis='columns')\n",
    "y = df1.Churn.astype(np.float32)\n",
    "\n",
    "from sklearn.model_selection import train_test_split\n",
    "X_train, X_test, y_train, y_test = train_test_split(X, y, test_size=0.2, random_state=15, stratify=y)"
   ]
  },
  {
   "cell_type": "code",
   "execution_count": 35,
   "id": "cf1b30ac",
   "metadata": {
    "execution": {
     "iopub.execute_input": "2023-07-01T19:02:00.563920Z",
     "iopub.status.busy": "2023-07-01T19:02:00.563009Z",
     "iopub.status.idle": "2023-07-01T19:02:00.573251Z",
     "shell.execute_reply": "2023-07-01T19:02:00.572079Z"
    },
    "papermill": {
     "duration": 0.050547,
     "end_time": "2023-07-01T19:02:00.575520",
     "exception": false,
     "start_time": "2023-07-01T19:02:00.524973",
     "status": "completed"
    },
    "scrolled": true,
    "tags": []
   },
   "outputs": [
    {
     "data": {
      "text/plain": [
       "0.0    4130\n",
       "1.0    1495\n",
       "Name: Churn, dtype: int64"
      ]
     },
     "execution_count": 35,
     "metadata": {},
     "output_type": "execute_result"
    }
   ],
   "source": [
    "y_train.value_counts()"
   ]
  },
  {
   "cell_type": "code",
   "execution_count": 36,
   "id": "04ad84cc",
   "metadata": {
    "execution": {
     "iopub.execute_input": "2023-07-01T19:02:00.648382Z",
     "iopub.status.busy": "2023-07-01T19:02:00.648017Z",
     "iopub.status.idle": "2023-07-01T19:02:00.655714Z",
     "shell.execute_reply": "2023-07-01T19:02:00.654572Z"
    },
    "papermill": {
     "duration": 0.04781,
     "end_time": "2023-07-01T19:02:00.658906",
     "exception": false,
     "start_time": "2023-07-01T19:02:00.611096",
     "status": "completed"
    },
    "tags": []
   },
   "outputs": [
    {
     "data": {
      "text/plain": [
       "0.0    5163\n",
       "1.0    1869\n",
       "Name: Churn, dtype: int64"
      ]
     },
     "execution_count": 36,
     "metadata": {},
     "output_type": "execute_result"
    }
   ],
   "source": [
    "y.value_counts()"
   ]
  },
  {
   "cell_type": "code",
   "execution_count": 37,
   "id": "d2d00ecc",
   "metadata": {
    "execution": {
     "iopub.execute_input": "2023-07-01T19:02:00.738137Z",
     "iopub.status.busy": "2023-07-01T19:02:00.737472Z",
     "iopub.status.idle": "2023-07-01T19:02:00.745949Z",
     "shell.execute_reply": "2023-07-01T19:02:00.744973Z"
    },
    "papermill": {
     "duration": 0.052285,
     "end_time": "2023-07-01T19:02:00.748116",
     "exception": false,
     "start_time": "2023-07-01T19:02:00.695831",
     "status": "completed"
    },
    "tags": []
   },
   "outputs": [
    {
     "data": {
      "text/plain": [
       "0.0    1033\n",
       "1.0     374\n",
       "Name: Churn, dtype: int64"
      ]
     },
     "execution_count": 37,
     "metadata": {},
     "output_type": "execute_result"
    }
   ],
   "source": [
    "y_test.value_counts()"
   ]
  },
  {
   "cell_type": "code",
   "execution_count": 38,
   "id": "f7f8f86d",
   "metadata": {
    "execution": {
     "iopub.execute_input": "2023-07-01T19:02:00.834485Z",
     "iopub.status.busy": "2023-07-01T19:02:00.834076Z",
     "iopub.status.idle": "2023-07-01T19:02:00.839449Z",
     "shell.execute_reply": "2023-07-01T19:02:00.838744Z"
    },
    "papermill": {
     "duration": 0.047861,
     "end_time": "2023-07-01T19:02:00.841348",
     "exception": false,
     "start_time": "2023-07-01T19:02:00.793487",
     "status": "completed"
    },
    "tags": []
   },
   "outputs": [
    {
     "data": {
      "text/plain": [
       "(5625, 26)"
      ]
     },
     "execution_count": 38,
     "metadata": {},
     "output_type": "execute_result"
    }
   ],
   "source": [
    "X_train.shape"
   ]
  },
  {
   "cell_type": "code",
   "execution_count": 39,
   "id": "15cd5c77",
   "metadata": {
    "execution": {
     "iopub.execute_input": "2023-07-01T19:02:00.914732Z",
     "iopub.status.busy": "2023-07-01T19:02:00.914015Z",
     "iopub.status.idle": "2023-07-01T19:02:00.919459Z",
     "shell.execute_reply": "2023-07-01T19:02:00.918771Z"
    },
    "papermill": {
     "duration": 0.044303,
     "end_time": "2023-07-01T19:02:00.921323",
     "exception": false,
     "start_time": "2023-07-01T19:02:00.877020",
     "status": "completed"
    },
    "scrolled": true,
    "tags": []
   },
   "outputs": [
    {
     "data": {
      "text/plain": [
       "(1407, 26)"
      ]
     },
     "execution_count": 39,
     "metadata": {},
     "output_type": "execute_result"
    }
   ],
   "source": [
    "X_test.shape"
   ]
  },
  {
   "cell_type": "code",
   "execution_count": 40,
   "id": "260494ea",
   "metadata": {
    "execution": {
     "iopub.execute_input": "2023-07-01T19:02:00.995044Z",
     "iopub.status.busy": "2023-07-01T19:02:00.994355Z",
     "iopub.status.idle": "2023-07-01T19:02:01.016870Z",
     "shell.execute_reply": "2023-07-01T19:02:01.015731Z"
    },
    "papermill": {
     "duration": 0.062024,
     "end_time": "2023-07-01T19:02:01.019343",
     "exception": false,
     "start_time": "2023-07-01T19:02:00.957319",
     "status": "completed"
    },
    "tags": []
   },
   "outputs": [
    {
     "data": {
      "text/html": [
       "<div>\n",
       "<style scoped>\n",
       "    .dataframe tbody tr th:only-of-type {\n",
       "        vertical-align: middle;\n",
       "    }\n",
       "\n",
       "    .dataframe tbody tr th {\n",
       "        vertical-align: top;\n",
       "    }\n",
       "\n",
       "    .dataframe thead th {\n",
       "        text-align: right;\n",
       "    }\n",
       "</style>\n",
       "<table border=\"1\" class=\"dataframe\">\n",
       "  <thead>\n",
       "    <tr style=\"text-align: right;\">\n",
       "      <th></th>\n",
       "      <th>gender</th>\n",
       "      <th>SeniorCitizen</th>\n",
       "      <th>Partner</th>\n",
       "      <th>Dependents</th>\n",
       "      <th>tenure</th>\n",
       "      <th>PhoneService</th>\n",
       "      <th>MultipleLines</th>\n",
       "      <th>OnlineSecurity</th>\n",
       "      <th>OnlineBackup</th>\n",
       "      <th>DeviceProtection</th>\n",
       "      <th>...</th>\n",
       "      <th>Contract_DSL</th>\n",
       "      <th>Contract_Fiber optic</th>\n",
       "      <th>Contract_No</th>\n",
       "      <th>PaymentMethod_Month-to-month</th>\n",
       "      <th>PaymentMethod_One year</th>\n",
       "      <th>PaymentMethod_Two year</th>\n",
       "      <th>InternetService_Bank transfer (automatic)</th>\n",
       "      <th>InternetService_Credit card (automatic)</th>\n",
       "      <th>InternetService_Electronic check</th>\n",
       "      <th>InternetService_Mailed check</th>\n",
       "    </tr>\n",
       "  </thead>\n",
       "  <tbody>\n",
       "    <tr>\n",
       "      <th>684</th>\n",
       "      <td>0</td>\n",
       "      <td>0</td>\n",
       "      <td>0</td>\n",
       "      <td>0</td>\n",
       "      <td>0.000000</td>\n",
       "      <td>1</td>\n",
       "      <td>0</td>\n",
       "      <td>0</td>\n",
       "      <td>0</td>\n",
       "      <td>0</td>\n",
       "      <td>...</td>\n",
       "      <td>0</td>\n",
       "      <td>1</td>\n",
       "      <td>0</td>\n",
       "      <td>1</td>\n",
       "      <td>0</td>\n",
       "      <td>0</td>\n",
       "      <td>0</td>\n",
       "      <td>0</td>\n",
       "      <td>0</td>\n",
       "      <td>1</td>\n",
       "    </tr>\n",
       "    <tr>\n",
       "      <th>2446</th>\n",
       "      <td>0</td>\n",
       "      <td>0</td>\n",
       "      <td>0</td>\n",
       "      <td>0</td>\n",
       "      <td>0.239437</td>\n",
       "      <td>1</td>\n",
       "      <td>1</td>\n",
       "      <td>0</td>\n",
       "      <td>1</td>\n",
       "      <td>0</td>\n",
       "      <td>...</td>\n",
       "      <td>0</td>\n",
       "      <td>1</td>\n",
       "      <td>0</td>\n",
       "      <td>1</td>\n",
       "      <td>0</td>\n",
       "      <td>0</td>\n",
       "      <td>0</td>\n",
       "      <td>1</td>\n",
       "      <td>0</td>\n",
       "      <td>0</td>\n",
       "    </tr>\n",
       "    <tr>\n",
       "      <th>1680</th>\n",
       "      <td>1</td>\n",
       "      <td>0</td>\n",
       "      <td>1</td>\n",
       "      <td>1</td>\n",
       "      <td>0.774648</td>\n",
       "      <td>1</td>\n",
       "      <td>1</td>\n",
       "      <td>0</td>\n",
       "      <td>0</td>\n",
       "      <td>0</td>\n",
       "      <td>...</td>\n",
       "      <td>0</td>\n",
       "      <td>0</td>\n",
       "      <td>1</td>\n",
       "      <td>0</td>\n",
       "      <td>1</td>\n",
       "      <td>0</td>\n",
       "      <td>0</td>\n",
       "      <td>0</td>\n",
       "      <td>0</td>\n",
       "      <td>1</td>\n",
       "    </tr>\n",
       "    <tr>\n",
       "      <th>2220</th>\n",
       "      <td>1</td>\n",
       "      <td>0</td>\n",
       "      <td>1</td>\n",
       "      <td>0</td>\n",
       "      <td>1.000000</td>\n",
       "      <td>1</td>\n",
       "      <td>0</td>\n",
       "      <td>1</td>\n",
       "      <td>1</td>\n",
       "      <td>0</td>\n",
       "      <td>...</td>\n",
       "      <td>1</td>\n",
       "      <td>0</td>\n",
       "      <td>0</td>\n",
       "      <td>0</td>\n",
       "      <td>0</td>\n",
       "      <td>1</td>\n",
       "      <td>1</td>\n",
       "      <td>0</td>\n",
       "      <td>0</td>\n",
       "      <td>0</td>\n",
       "    </tr>\n",
       "    <tr>\n",
       "      <th>2842</th>\n",
       "      <td>0</td>\n",
       "      <td>0</td>\n",
       "      <td>0</td>\n",
       "      <td>0</td>\n",
       "      <td>0.042254</td>\n",
       "      <td>0</td>\n",
       "      <td>0</td>\n",
       "      <td>1</td>\n",
       "      <td>0</td>\n",
       "      <td>1</td>\n",
       "      <td>...</td>\n",
       "      <td>1</td>\n",
       "      <td>0</td>\n",
       "      <td>0</td>\n",
       "      <td>1</td>\n",
       "      <td>0</td>\n",
       "      <td>0</td>\n",
       "      <td>0</td>\n",
       "      <td>0</td>\n",
       "      <td>0</td>\n",
       "      <td>1</td>\n",
       "    </tr>\n",
       "    <tr>\n",
       "      <th>5131</th>\n",
       "      <td>0</td>\n",
       "      <td>0</td>\n",
       "      <td>1</td>\n",
       "      <td>0</td>\n",
       "      <td>0.605634</td>\n",
       "      <td>1</td>\n",
       "      <td>1</td>\n",
       "      <td>0</td>\n",
       "      <td>0</td>\n",
       "      <td>0</td>\n",
       "      <td>...</td>\n",
       "      <td>0</td>\n",
       "      <td>1</td>\n",
       "      <td>0</td>\n",
       "      <td>1</td>\n",
       "      <td>0</td>\n",
       "      <td>0</td>\n",
       "      <td>0</td>\n",
       "      <td>0</td>\n",
       "      <td>1</td>\n",
       "      <td>0</td>\n",
       "    </tr>\n",
       "    <tr>\n",
       "      <th>4372</th>\n",
       "      <td>1</td>\n",
       "      <td>0</td>\n",
       "      <td>1</td>\n",
       "      <td>1</td>\n",
       "      <td>0.000000</td>\n",
       "      <td>1</td>\n",
       "      <td>0</td>\n",
       "      <td>0</td>\n",
       "      <td>0</td>\n",
       "      <td>0</td>\n",
       "      <td>...</td>\n",
       "      <td>0</td>\n",
       "      <td>0</td>\n",
       "      <td>1</td>\n",
       "      <td>1</td>\n",
       "      <td>0</td>\n",
       "      <td>0</td>\n",
       "      <td>1</td>\n",
       "      <td>0</td>\n",
       "      <td>0</td>\n",
       "      <td>0</td>\n",
       "    </tr>\n",
       "    <tr>\n",
       "      <th>4687</th>\n",
       "      <td>1</td>\n",
       "      <td>0</td>\n",
       "      <td>1</td>\n",
       "      <td>0</td>\n",
       "      <td>0.295775</td>\n",
       "      <td>1</td>\n",
       "      <td>0</td>\n",
       "      <td>0</td>\n",
       "      <td>0</td>\n",
       "      <td>1</td>\n",
       "      <td>...</td>\n",
       "      <td>0</td>\n",
       "      <td>1</td>\n",
       "      <td>0</td>\n",
       "      <td>1</td>\n",
       "      <td>0</td>\n",
       "      <td>0</td>\n",
       "      <td>0</td>\n",
       "      <td>1</td>\n",
       "      <td>0</td>\n",
       "      <td>0</td>\n",
       "    </tr>\n",
       "    <tr>\n",
       "      <th>2385</th>\n",
       "      <td>0</td>\n",
       "      <td>0</td>\n",
       "      <td>0</td>\n",
       "      <td>1</td>\n",
       "      <td>0.028169</td>\n",
       "      <td>0</td>\n",
       "      <td>0</td>\n",
       "      <td>0</td>\n",
       "      <td>1</td>\n",
       "      <td>0</td>\n",
       "      <td>...</td>\n",
       "      <td>1</td>\n",
       "      <td>0</td>\n",
       "      <td>0</td>\n",
       "      <td>1</td>\n",
       "      <td>0</td>\n",
       "      <td>0</td>\n",
       "      <td>0</td>\n",
       "      <td>0</td>\n",
       "      <td>0</td>\n",
       "      <td>1</td>\n",
       "    </tr>\n",
       "    <tr>\n",
       "      <th>6773</th>\n",
       "      <td>1</td>\n",
       "      <td>1</td>\n",
       "      <td>1</td>\n",
       "      <td>0</td>\n",
       "      <td>0.507042</td>\n",
       "      <td>1</td>\n",
       "      <td>1</td>\n",
       "      <td>0</td>\n",
       "      <td>0</td>\n",
       "      <td>0</td>\n",
       "      <td>...</td>\n",
       "      <td>0</td>\n",
       "      <td>1</td>\n",
       "      <td>0</td>\n",
       "      <td>1</td>\n",
       "      <td>0</td>\n",
       "      <td>0</td>\n",
       "      <td>0</td>\n",
       "      <td>0</td>\n",
       "      <td>1</td>\n",
       "      <td>0</td>\n",
       "    </tr>\n",
       "  </tbody>\n",
       "</table>\n",
       "<p>10 rows × 26 columns</p>\n",
       "</div>"
      ],
      "text/plain": [
       "      gender  SeniorCitizen  Partner  Dependents    tenure  PhoneService  \\\n",
       "684        0              0        0           0  0.000000             1   \n",
       "2446       0              0        0           0  0.239437             1   \n",
       "1680       1              0        1           1  0.774648             1   \n",
       "2220       1              0        1           0  1.000000             1   \n",
       "2842       0              0        0           0  0.042254             0   \n",
       "5131       0              0        1           0  0.605634             1   \n",
       "4372       1              0        1           1  0.000000             1   \n",
       "4687       1              0        1           0  0.295775             1   \n",
       "2385       0              0        0           1  0.028169             0   \n",
       "6773       1              1        1           0  0.507042             1   \n",
       "\n",
       "      MultipleLines  OnlineSecurity  OnlineBackup  DeviceProtection  ...  \\\n",
       "684               0               0             0                 0  ...   \n",
       "2446              1               0             1                 0  ...   \n",
       "1680              1               0             0                 0  ...   \n",
       "2220              0               1             1                 0  ...   \n",
       "2842              0               1             0                 1  ...   \n",
       "5131              1               0             0                 0  ...   \n",
       "4372              0               0             0                 0  ...   \n",
       "4687              0               0             0                 1  ...   \n",
       "2385              0               0             1                 0  ...   \n",
       "6773              1               0             0                 0  ...   \n",
       "\n",
       "      Contract_DSL  Contract_Fiber optic  Contract_No  \\\n",
       "684              0                     1            0   \n",
       "2446             0                     1            0   \n",
       "1680             0                     0            1   \n",
       "2220             1                     0            0   \n",
       "2842             1                     0            0   \n",
       "5131             0                     1            0   \n",
       "4372             0                     0            1   \n",
       "4687             0                     1            0   \n",
       "2385             1                     0            0   \n",
       "6773             0                     1            0   \n",
       "\n",
       "      PaymentMethod_Month-to-month  PaymentMethod_One year  \\\n",
       "684                              1                       0   \n",
       "2446                             1                       0   \n",
       "1680                             0                       1   \n",
       "2220                             0                       0   \n",
       "2842                             1                       0   \n",
       "5131                             1                       0   \n",
       "4372                             1                       0   \n",
       "4687                             1                       0   \n",
       "2385                             1                       0   \n",
       "6773                             1                       0   \n",
       "\n",
       "      PaymentMethod_Two year  InternetService_Bank transfer (automatic)  \\\n",
       "684                        0                                          0   \n",
       "2446                       0                                          0   \n",
       "1680                       0                                          0   \n",
       "2220                       1                                          1   \n",
       "2842                       0                                          0   \n",
       "5131                       0                                          0   \n",
       "4372                       0                                          1   \n",
       "4687                       0                                          0   \n",
       "2385                       0                                          0   \n",
       "6773                       0                                          0   \n",
       "\n",
       "      InternetService_Credit card (automatic)  \\\n",
       "684                                         0   \n",
       "2446                                        1   \n",
       "1680                                        0   \n",
       "2220                                        0   \n",
       "2842                                        0   \n",
       "5131                                        0   \n",
       "4372                                        0   \n",
       "4687                                        1   \n",
       "2385                                        0   \n",
       "6773                                        0   \n",
       "\n",
       "      InternetService_Electronic check  InternetService_Mailed check  \n",
       "684                                  0                             1  \n",
       "2446                                 0                             0  \n",
       "1680                                 0                             1  \n",
       "2220                                 0                             0  \n",
       "2842                                 0                             1  \n",
       "5131                                 1                             0  \n",
       "4372                                 0                             0  \n",
       "4687                                 0                             0  \n",
       "2385                                 0                             1  \n",
       "6773                                 1                             0  \n",
       "\n",
       "[10 rows x 26 columns]"
      ]
     },
     "execution_count": 40,
     "metadata": {},
     "output_type": "execute_result"
    }
   ],
   "source": [
    "X_train[:10]"
   ]
  },
  {
   "cell_type": "code",
   "execution_count": 41,
   "id": "d0ef91ef",
   "metadata": {
    "execution": {
     "iopub.execute_input": "2023-07-01T19:02:01.093979Z",
     "iopub.status.busy": "2023-07-01T19:02:01.093589Z",
     "iopub.status.idle": "2023-07-01T19:02:01.100137Z",
     "shell.execute_reply": "2023-07-01T19:02:01.099159Z"
    },
    "papermill": {
     "duration": 0.046373,
     "end_time": "2023-07-01T19:02:01.102309",
     "exception": false,
     "start_time": "2023-07-01T19:02:01.055936",
     "status": "completed"
    },
    "tags": []
   },
   "outputs": [
    {
     "data": {
      "text/plain": [
       "26"
      ]
     },
     "execution_count": 41,
     "metadata": {},
     "output_type": "execute_result"
    }
   ],
   "source": [
    "len(X_train.columns)"
   ]
  },
  {
   "cell_type": "markdown",
   "id": "49bbec59",
   "metadata": {
    "papermill": {
     "duration": 0.036157,
     "end_time": "2023-07-01T19:02:01.175405",
     "exception": false,
     "start_time": "2023-07-01T19:02:01.139248",
     "status": "completed"
    },
    "tags": []
   },
   "source": [
    "# 6&7 .Train the model\n",
    "**Use logistic regression classifier**"
   ]
  },
  {
   "cell_type": "code",
   "execution_count": 42,
   "id": "6776c84a",
   "metadata": {
    "execution": {
     "iopub.execute_input": "2023-07-01T19:02:01.250545Z",
     "iopub.status.busy": "2023-07-01T19:02:01.249807Z",
     "iopub.status.idle": "2023-07-01T19:02:01.256296Z",
     "shell.execute_reply": "2023-07-01T19:02:01.255561Z"
    },
    "papermill": {
     "duration": 0.046375,
     "end_time": "2023-07-01T19:02:01.258316",
     "exception": false,
     "start_time": "2023-07-01T19:02:01.211941",
     "status": "completed"
    },
    "tags": []
   },
   "outputs": [],
   "source": [
    "def log_reg(X_train, y_train, X_test, y_test, weights):\n",
    "    if weights==-1:\n",
    "        model = LogisticRegression()\n",
    "    else:\n",
    "        model = LogisticRegression(class_weight={0:weights[0], 1:weights[1]})\n",
    "\n",
    "    model.fit(X_train, y_train)\n",
    "    acc = model.score(X_test, y_test)\n",
    "    print(\"Accuracy\", acc, \"\\n\")\n",
    "\n",
    "    y_pred = model.predict(X_test)\n",
    "    print(\"preds\", y_pred[:5], \"\\n\")\n",
    "\n",
    "    cl_rep = classification_report(y_test,y_pred)\n",
    "    print(cl_rep)"
   ]
  },
  {
   "cell_type": "markdown",
   "id": "a3969577",
   "metadata": {
    "papermill": {
     "duration": 0.036391,
     "end_time": "2023-07-01T19:02:01.331566",
     "exception": false,
     "start_time": "2023-07-01T19:02:01.295175",
     "status": "completed"
    },
    "tags": []
   },
   "source": [
    "* weight means you are giving more importance to a particular class."
   ]
  },
  {
   "cell_type": "code",
   "execution_count": 43,
   "id": "2467c5b2",
   "metadata": {
    "execution": {
     "iopub.execute_input": "2023-07-01T19:02:01.407023Z",
     "iopub.status.busy": "2023-07-01T19:02:01.406321Z",
     "iopub.status.idle": "2023-07-01T19:02:01.545054Z",
     "shell.execute_reply": "2023-07-01T19:02:01.543645Z"
    },
    "papermill": {
     "duration": 0.181439,
     "end_time": "2023-07-01T19:02:01.549622",
     "exception": false,
     "start_time": "2023-07-01T19:02:01.368183",
     "status": "completed"
    },
    "tags": []
   },
   "outputs": [
    {
     "name": "stdout",
     "output_type": "stream",
     "text": [
      "Accuracy 0.8031272210376688 \n",
      "\n",
      "preds [0. 0. 0. 0. 1.] \n",
      "\n",
      "              precision    recall  f1-score   support\n",
      "\n",
      "         0.0       0.84      0.90      0.87      1033\n",
      "         1.0       0.66      0.54      0.59       374\n",
      "\n",
      "    accuracy                           0.80      1407\n",
      "   macro avg       0.75      0.72      0.73      1407\n",
      "weighted avg       0.79      0.80      0.80      1407\n",
      "\n"
     ]
    }
   ],
   "source": [
    "weights = -1 # pass -1 to use Logistics Regression without weights\n",
    "log_reg(X_train, y_train, X_test, y_test, weights)"
   ]
  },
  {
   "cell_type": "code",
   "execution_count": 44,
   "id": "63921dc6",
   "metadata": {
    "execution": {
     "iopub.execute_input": "2023-07-01T19:02:01.674009Z",
     "iopub.status.busy": "2023-07-01T19:02:01.673596Z",
     "iopub.status.idle": "2023-07-01T19:02:01.798645Z",
     "shell.execute_reply": "2023-07-01T19:02:01.797188Z"
    },
    "papermill": {
     "duration": 0.175962,
     "end_time": "2023-07-01T19:02:01.802616",
     "exception": false,
     "start_time": "2023-07-01T19:02:01.626654",
     "status": "completed"
    },
    "scrolled": true,
    "tags": []
   },
   "outputs": [
    {
     "name": "stdout",
     "output_type": "stream",
     "text": [
      "Accuracy 0.7938877043354655 \n",
      "\n",
      "preds [0. 0. 0. 0. 1.] \n",
      "\n",
      "              precision    recall  f1-score   support\n",
      "\n",
      "         0.0       0.88      0.83      0.86      1033\n",
      "         1.0       0.60      0.68      0.64       374\n",
      "\n",
      "    accuracy                           0.79      1407\n",
      "   macro avg       0.74      0.76      0.75      1407\n",
      "weighted avg       0.80      0.79      0.80      1407\n",
      "\n"
     ]
    }
   ],
   "source": [
    "weights = [1, 1.5] # pass -1 to use Logistics Regression without weights\n",
    "log_reg(X_train, y_train, X_test, y_test, weights)"
   ]
  },
  {
   "cell_type": "markdown",
   "id": "a7071008",
   "metadata": {
    "papermill": {
     "duration": 0.044387,
     "end_time": "2023-07-01T19:02:01.925789",
     "exception": false,
     "start_time": "2023-07-01T19:02:01.881402",
     "status": "completed"
    },
    "tags": []
   },
   "source": [
    "* when we don't define class weights we get 0.66 precision and 0.54 recall.\n",
    "* when we define class weights we get 0.50 precision and 0.79 recall."
   ]
  },
  {
   "cell_type": "markdown",
   "id": "e869530b",
   "metadata": {
    "papermill": {
     "duration": 0.036536,
     "end_time": "2023-07-01T19:02:01.999579",
     "exception": false,
     "start_time": "2023-07-01T19:02:01.963043",
     "status": "completed"
    },
    "tags": []
   },
   "source": [
    "# \"Imbalanced dataset\""
   ]
  },
  {
   "cell_type": "markdown",
   "id": "829800d4",
   "metadata": {
    "papermill": {
     "duration": 0.037013,
     "end_time": "2023-07-01T19:02:02.073548",
     "exception": false,
     "start_time": "2023-07-01T19:02:02.036535",
     "status": "completed"
    },
    "tags": []
   },
   "source": [
    "### Method1: Undersampling"
   ]
  },
  {
   "cell_type": "code",
   "execution_count": 45,
   "id": "762e2999",
   "metadata": {
    "execution": {
     "iopub.execute_input": "2023-07-01T19:02:02.150064Z",
     "iopub.status.busy": "2023-07-01T19:02:02.149661Z",
     "iopub.status.idle": "2023-07-01T19:02:02.158072Z",
     "shell.execute_reply": "2023-07-01T19:02:02.157349Z"
    },
    "papermill": {
     "duration": 0.049057,
     "end_time": "2023-07-01T19:02:02.160099",
     "exception": false,
     "start_time": "2023-07-01T19:02:02.111042",
     "status": "completed"
    },
    "tags": []
   },
   "outputs": [],
   "source": [
    "# Class count\n",
    "count_class_0, count_class_1 = df1.Churn.value_counts()\n",
    "\n",
    "# Divide by class\n",
    "df_class_0 = df1[df1['Churn'] == 0]\n",
    "df_class_1 = df1[df1['Churn'] == 1]"
   ]
  },
  {
   "cell_type": "code",
   "execution_count": 46,
   "id": "d4e296f2",
   "metadata": {
    "execution": {
     "iopub.execute_input": "2023-07-01T19:02:02.238951Z",
     "iopub.status.busy": "2023-07-01T19:02:02.237955Z",
     "iopub.status.idle": "2023-07-01T19:02:02.244192Z",
     "shell.execute_reply": "2023-07-01T19:02:02.243282Z"
    },
    "papermill": {
     "duration": 0.048194,
     "end_time": "2023-07-01T19:02:02.246259",
     "exception": false,
     "start_time": "2023-07-01T19:02:02.198065",
     "status": "completed"
    },
    "tags": []
   },
   "outputs": [
    {
     "data": {
      "text/plain": [
       "5163"
      ]
     },
     "execution_count": 46,
     "metadata": {},
     "output_type": "execute_result"
    }
   ],
   "source": [
    "count_class_0"
   ]
  },
  {
   "cell_type": "code",
   "execution_count": 47,
   "id": "5e20115d",
   "metadata": {
    "execution": {
     "iopub.execute_input": "2023-07-01T19:02:02.322947Z",
     "iopub.status.busy": "2023-07-01T19:02:02.322372Z",
     "iopub.status.idle": "2023-07-01T19:02:02.327285Z",
     "shell.execute_reply": "2023-07-01T19:02:02.326576Z"
    },
    "papermill": {
     "duration": 0.045729,
     "end_time": "2023-07-01T19:02:02.329231",
     "exception": false,
     "start_time": "2023-07-01T19:02:02.283502",
     "status": "completed"
    },
    "tags": []
   },
   "outputs": [
    {
     "data": {
      "text/plain": [
       "1869"
      ]
     },
     "execution_count": 47,
     "metadata": {},
     "output_type": "execute_result"
    }
   ],
   "source": [
    "count_class_1"
   ]
  },
  {
   "cell_type": "code",
   "execution_count": 48,
   "id": "62ddbce8",
   "metadata": {
    "execution": {
     "iopub.execute_input": "2023-07-01T19:02:02.408363Z",
     "iopub.status.busy": "2023-07-01T19:02:02.407948Z",
     "iopub.status.idle": "2023-07-01T19:02:02.419390Z",
     "shell.execute_reply": "2023-07-01T19:02:02.418084Z"
    },
    "papermill": {
     "duration": 0.054864,
     "end_time": "2023-07-01T19:02:02.421376",
     "exception": false,
     "start_time": "2023-07-01T19:02:02.366512",
     "status": "completed"
    },
    "scrolled": true,
    "tags": []
   },
   "outputs": [
    {
     "name": "stdout",
     "output_type": "stream",
     "text": [
      "Random under-sampling:\n",
      "0    1869\n",
      "1    1869\n",
      "Name: Churn, dtype: int64\n"
     ]
    }
   ],
   "source": [
    "# Undersample 0-class and concat the DataFrames of both class\n",
    "df_class_0_under = df_class_0.sample(count_class_1)\n",
    "df_test_under = pd.concat([df_class_0_under, df_class_1], axis=0)\n",
    "\n",
    "print('Random under-sampling:')\n",
    "print(df_test_under.Churn.value_counts())"
   ]
  },
  {
   "cell_type": "code",
   "execution_count": 49,
   "id": "01e02ded",
   "metadata": {
    "execution": {
     "iopub.execute_input": "2023-07-01T19:02:02.498872Z",
     "iopub.status.busy": "2023-07-01T19:02:02.498174Z",
     "iopub.status.idle": "2023-07-01T19:02:02.509575Z",
     "shell.execute_reply": "2023-07-01T19:02:02.508529Z"
    },
    "papermill": {
     "duration": 0.05287,
     "end_time": "2023-07-01T19:02:02.511929",
     "exception": false,
     "start_time": "2023-07-01T19:02:02.459059",
     "status": "completed"
    },
    "tags": []
   },
   "outputs": [],
   "source": [
    "X = df_test_under.drop('Churn',axis='columns')\n",
    "y = df_test_under['Churn']\n",
    "\n",
    "from sklearn.model_selection import train_test_split\n",
    "X_train, X_test, y_train, y_test = train_test_split(X, y, test_size=0.2, random_state=15, stratify=y)"
   ]
  },
  {
   "cell_type": "code",
   "execution_count": 50,
   "id": "4fea0fb7",
   "metadata": {
    "execution": {
     "iopub.execute_input": "2023-07-01T19:02:02.589147Z",
     "iopub.status.busy": "2023-07-01T19:02:02.588752Z",
     "iopub.status.idle": "2023-07-01T19:02:02.596251Z",
     "shell.execute_reply": "2023-07-01T19:02:02.595502Z"
    },
    "papermill": {
     "duration": 0.048141,
     "end_time": "2023-07-01T19:02:02.598174",
     "exception": false,
     "start_time": "2023-07-01T19:02:02.550033",
     "status": "completed"
    },
    "scrolled": true,
    "tags": []
   },
   "outputs": [
    {
     "data": {
      "text/plain": [
       "0    1495\n",
       "1    1495\n",
       "Name: Churn, dtype: int64"
      ]
     },
     "execution_count": 50,
     "metadata": {},
     "output_type": "execute_result"
    }
   ],
   "source": [
    "# Number of classes in training Data\n",
    "y_train.value_counts()"
   ]
  },
  {
   "cell_type": "markdown",
   "id": "4066db13",
   "metadata": {
    "papermill": {
     "duration": 0.03947,
     "end_time": "2023-07-01T19:02:02.677182",
     "exception": false,
     "start_time": "2023-07-01T19:02:02.637712",
     "status": "completed"
    },
    "tags": []
   },
   "source": [
    "#### Applying Logistic Regression"
   ]
  },
  {
   "cell_type": "code",
   "execution_count": 51,
   "id": "25b3f7be",
   "metadata": {
    "execution": {
     "iopub.execute_input": "2023-07-01T19:02:02.755052Z",
     "iopub.status.busy": "2023-07-01T19:02:02.754404Z",
     "iopub.status.idle": "2023-07-01T19:02:02.847629Z",
     "shell.execute_reply": "2023-07-01T19:02:02.846225Z"
    },
    "papermill": {
     "duration": 0.135807,
     "end_time": "2023-07-01T19:02:02.851540",
     "exception": false,
     "start_time": "2023-07-01T19:02:02.715733",
     "status": "completed"
    },
    "scrolled": true,
    "tags": []
   },
   "outputs": [
    {
     "name": "stdout",
     "output_type": "stream",
     "text": [
      "Accuracy 0.7446524064171123 \n",
      "\n",
      "preds [0 0 1 1 0] \n",
      "\n",
      "              precision    recall  f1-score   support\n",
      "\n",
      "           0       0.76      0.71      0.74       374\n",
      "           1       0.73      0.78      0.75       374\n",
      "\n",
      "    accuracy                           0.74       748\n",
      "   macro avg       0.75      0.74      0.74       748\n",
      "weighted avg       0.75      0.74      0.74       748\n",
      "\n"
     ]
    }
   ],
   "source": [
    "weights = -1 # pass -1 to use Logistics Regression without weights\n",
    "log_reg(X_train, y_train, X_test, y_test, weights)"
   ]
  },
  {
   "cell_type": "markdown",
   "id": "df50cce6",
   "metadata": {
    "papermill": {
     "duration": 0.038025,
     "end_time": "2023-07-01T19:02:02.987158",
     "exception": false,
     "start_time": "2023-07-01T19:02:02.949133",
     "status": "completed"
    },
    "tags": []
   },
   "source": [
    "<h4 style='color:blue'>With undersampling: f1 score for minority class 1 improved to be 0.75 from 0.59</h4>"
   ]
  },
  {
   "cell_type": "markdown",
   "id": "acaa7e3d",
   "metadata": {
    "papermill": {
     "duration": 0.037232,
     "end_time": "2023-07-01T19:02:03.061656",
     "exception": false,
     "start_time": "2023-07-01T19:02:03.024424",
     "status": "completed"
    },
    "tags": []
   },
   "source": [
    "#### Applying SVM"
   ]
  },
  {
   "cell_type": "code",
   "execution_count": 52,
   "id": "5ba8492c",
   "metadata": {
    "execution": {
     "iopub.execute_input": "2023-07-01T19:02:03.139141Z",
     "iopub.status.busy": "2023-07-01T19:02:03.138739Z",
     "iopub.status.idle": "2023-07-01T19:02:03.737540Z",
     "shell.execute_reply": "2023-07-01T19:02:03.735960Z"
    },
    "papermill": {
     "duration": 0.639939,
     "end_time": "2023-07-01T19:02:03.739970",
     "exception": false,
     "start_time": "2023-07-01T19:02:03.100031",
     "status": "completed"
    },
    "tags": []
   },
   "outputs": [
    {
     "name": "stdout",
     "output_type": "stream",
     "text": [
      "Accuracy 0.7486631016042781 \n",
      "\n",
      "preds [0 0 1 1 0] \n",
      "\n",
      "              precision    recall  f1-score   support\n",
      "\n",
      "           0       0.77      0.71      0.74       374\n",
      "           1       0.73      0.79      0.76       374\n",
      "\n",
      "    accuracy                           0.75       748\n",
      "   macro avg       0.75      0.75      0.75       748\n",
      "weighted avg       0.75      0.75      0.75       748\n",
      "\n"
     ]
    }
   ],
   "source": [
    "clf = svm.SVC()\n",
    "clf.fit(X_train, y_train)\n",
    "\n",
    "acc = clf.score(X_test, y_test)\n",
    "print(\"Accuracy\", acc, \"\\n\")\n",
    "\n",
    "y_pred = clf.predict(X_test)\n",
    "print(\"preds\", y_pred[:5], \"\\n\")\n",
    "\n",
    "cl_rep = classification_report(y_test,y_pred)\n",
    "print(cl_rep)"
   ]
  },
  {
   "cell_type": "markdown",
   "id": "d59fbadf",
   "metadata": {
    "papermill": {
     "duration": 0.039248,
     "end_time": "2023-07-01T19:02:03.816727",
     "exception": false,
     "start_time": "2023-07-01T19:02:03.777479",
     "status": "completed"
    },
    "tags": []
   },
   "source": [
    "#### Applying SGDClassifier"
   ]
  },
  {
   "cell_type": "code",
   "execution_count": 53,
   "id": "75ad01ee",
   "metadata": {
    "execution": {
     "iopub.execute_input": "2023-07-01T19:02:03.894983Z",
     "iopub.status.busy": "2023-07-01T19:02:03.893630Z",
     "iopub.status.idle": "2023-07-01T19:02:03.935881Z",
     "shell.execute_reply": "2023-07-01T19:02:03.934796Z"
    },
    "papermill": {
     "duration": 0.084591,
     "end_time": "2023-07-01T19:02:03.939553",
     "exception": false,
     "start_time": "2023-07-01T19:02:03.854962",
     "status": "completed"
    },
    "tags": []
   },
   "outputs": [
    {
     "name": "stdout",
     "output_type": "stream",
     "text": [
      "Accuracy 0.5548128342245989 \n",
      "\n",
      "preds [0 0 0 0 0] \n",
      "\n",
      "              precision    recall  f1-score   support\n",
      "\n",
      "           0       0.53      0.98      0.69       374\n",
      "           1       0.89      0.13      0.22       374\n",
      "\n",
      "    accuracy                           0.55       748\n",
      "   macro avg       0.71      0.55      0.45       748\n",
      "weighted avg       0.71      0.55      0.45       748\n",
      "\n"
     ]
    }
   ],
   "source": [
    "clf = SGDClassifier(loss=\"hinge\", penalty=\"l2\", max_iter=5)\n",
    "clf.fit(X_train, y_train)\n",
    "\n",
    "acc = clf.score(X_test, y_test)\n",
    "print(\"Accuracy\", acc, \"\\n\")\n",
    "\n",
    "y_pred = clf.predict(X_test)\n",
    "print(\"preds\", y_pred[:5], \"\\n\")\n",
    "\n",
    "cl_rep = classification_report(y_test,y_pred)\n",
    "print(cl_rep)"
   ]
  },
  {
   "cell_type": "markdown",
   "id": "a4c29965",
   "metadata": {
    "papermill": {
     "duration": 0.04807,
     "end_time": "2023-07-01T19:02:04.066670",
     "exception": false,
     "start_time": "2023-07-01T19:02:04.018600",
     "status": "completed"
    },
    "tags": []
   },
   "source": [
    "#### Applying NearestCentroid"
   ]
  },
  {
   "cell_type": "code",
   "execution_count": 54,
   "id": "bbe8b1f4",
   "metadata": {
    "execution": {
     "iopub.execute_input": "2023-07-01T19:02:04.145269Z",
     "iopub.status.busy": "2023-07-01T19:02:04.144871Z",
     "iopub.status.idle": "2023-07-01T19:02:04.170494Z",
     "shell.execute_reply": "2023-07-01T19:02:04.169139Z"
    },
    "papermill": {
     "duration": 0.067594,
     "end_time": "2023-07-01T19:02:04.172683",
     "exception": false,
     "start_time": "2023-07-01T19:02:04.105089",
     "status": "completed"
    },
    "tags": []
   },
   "outputs": [
    {
     "name": "stdout",
     "output_type": "stream",
     "text": [
      "Accuracy 0.7446524064171123 \n",
      "\n",
      "preds [1 0 1 1 0] \n",
      "\n",
      "              precision    recall  f1-score   support\n",
      "\n",
      "           0       0.76      0.72      0.74       374\n",
      "           1       0.73      0.77      0.75       374\n",
      "\n",
      "    accuracy                           0.74       748\n",
      "   macro avg       0.75      0.74      0.74       748\n",
      "weighted avg       0.75      0.74      0.74       748\n",
      "\n"
     ]
    }
   ],
   "source": [
    "clf = NearestCentroid()\n",
    "clf.fit(X_train, y_train)\n",
    "\n",
    "acc = clf.score(X_test, y_test)\n",
    "print(\"Accuracy\", acc, \"\\n\")\n",
    "\n",
    "y_pred = clf.predict(X_test)\n",
    "print(\"preds\", y_pred[:5], \"\\n\")\n",
    "\n",
    "cl_rep = classification_report(y_test,y_pred)\n",
    "print(cl_rep)"
   ]
  },
  {
   "cell_type": "markdown",
   "id": "4c197183",
   "metadata": {
    "papermill": {
     "duration": 0.037289,
     "end_time": "2023-07-01T19:02:04.247643",
     "exception": false,
     "start_time": "2023-07-01T19:02:04.210354",
     "status": "completed"
    },
    "tags": []
   },
   "source": [
    "#### Applying Decision Trees"
   ]
  },
  {
   "cell_type": "code",
   "execution_count": 55,
   "id": "558d5658",
   "metadata": {
    "execution": {
     "iopub.execute_input": "2023-07-01T19:02:04.324694Z",
     "iopub.status.busy": "2023-07-01T19:02:04.323556Z",
     "iopub.status.idle": "2023-07-01T19:02:04.367338Z",
     "shell.execute_reply": "2023-07-01T19:02:04.366018Z"
    },
    "papermill": {
     "duration": 0.084622,
     "end_time": "2023-07-01T19:02:04.369991",
     "exception": false,
     "start_time": "2023-07-01T19:02:04.285369",
     "status": "completed"
    },
    "tags": []
   },
   "outputs": [
    {
     "name": "stdout",
     "output_type": "stream",
     "text": [
      "Accuracy 0.6764705882352942 \n",
      "\n",
      "preds [0 0 1 1 0] \n",
      "\n",
      "              precision    recall  f1-score   support\n",
      "\n",
      "           0       0.68      0.67      0.67       374\n",
      "           1       0.67      0.69      0.68       374\n",
      "\n",
      "    accuracy                           0.68       748\n",
      "   macro avg       0.68      0.68      0.68       748\n",
      "weighted avg       0.68      0.68      0.68       748\n",
      "\n"
     ]
    }
   ],
   "source": [
    "clf = tree.DecisionTreeClassifier()\n",
    "clf.fit(X_train, y_train)\n",
    "\n",
    "acc = clf.score(X_test, y_test)\n",
    "print(\"Accuracy\", acc, \"\\n\")\n",
    "\n",
    "y_pred = clf.predict(X_test)\n",
    "print(\"preds\", y_pred[:5], \"\\n\")\n",
    "\n",
    "cl_rep = classification_report(y_test,y_pred)\n",
    "print(cl_rep)"
   ]
  },
  {
   "cell_type": "markdown",
   "id": "53a759f5",
   "metadata": {
    "papermill": {
     "duration": 0.037601,
     "end_time": "2023-07-01T19:02:04.445198",
     "exception": false,
     "start_time": "2023-07-01T19:02:04.407597",
     "status": "completed"
    },
    "tags": []
   },
   "source": [
    "### Method2: Oversampling"
   ]
  },
  {
   "cell_type": "code",
   "execution_count": 56,
   "id": "98c440f0",
   "metadata": {
    "execution": {
     "iopub.execute_input": "2023-07-01T19:02:04.523516Z",
     "iopub.status.busy": "2023-07-01T19:02:04.522808Z",
     "iopub.status.idle": "2023-07-01T19:02:04.534841Z",
     "shell.execute_reply": "2023-07-01T19:02:04.533637Z"
    },
    "papermill": {
     "duration": 0.053445,
     "end_time": "2023-07-01T19:02:04.537101",
     "exception": false,
     "start_time": "2023-07-01T19:02:04.483656",
     "status": "completed"
    },
    "tags": []
   },
   "outputs": [
    {
     "name": "stdout",
     "output_type": "stream",
     "text": [
      "Random over-sampling:\n",
      "0    5163\n",
      "1    5163\n",
      "Name: Churn, dtype: int64\n"
     ]
    }
   ],
   "source": [
    "# Oversample 1-class and concat the DataFrames of both classes\n",
    "df_class_1_over = df_class_1.sample(count_class_0, replace=True)\n",
    "df_test_over = pd.concat([df_class_0, df_class_1_over], axis=0)\n",
    "\n",
    "print('Random over-sampling:')\n",
    "print(df_test_over.Churn.value_counts())"
   ]
  },
  {
   "cell_type": "code",
   "execution_count": 57,
   "id": "8b871b61",
   "metadata": {
    "execution": {
     "iopub.execute_input": "2023-07-01T19:02:04.615178Z",
     "iopub.status.busy": "2023-07-01T19:02:04.614822Z",
     "iopub.status.idle": "2023-07-01T19:02:04.632325Z",
     "shell.execute_reply": "2023-07-01T19:02:04.631417Z"
    },
    "papermill": {
     "duration": 0.059289,
     "end_time": "2023-07-01T19:02:04.634636",
     "exception": false,
     "start_time": "2023-07-01T19:02:04.575347",
     "status": "completed"
    },
    "tags": []
   },
   "outputs": [],
   "source": [
    "X = df_test_over.drop('Churn',axis='columns')\n",
    "y = df_test_over['Churn']\n",
    "\n",
    "from sklearn.model_selection import train_test_split\n",
    "X_train, X_test, y_train, y_test = train_test_split(X, y, test_size=0.2, random_state=15, stratify=y)"
   ]
  },
  {
   "cell_type": "code",
   "execution_count": 58,
   "id": "eaa5f22d",
   "metadata": {
    "execution": {
     "iopub.execute_input": "2023-07-01T19:02:04.712340Z",
     "iopub.status.busy": "2023-07-01T19:02:04.711623Z",
     "iopub.status.idle": "2023-07-01T19:02:04.719431Z",
     "shell.execute_reply": "2023-07-01T19:02:04.718352Z"
    },
    "papermill": {
     "duration": 0.049212,
     "end_time": "2023-07-01T19:02:04.721633",
     "exception": false,
     "start_time": "2023-07-01T19:02:04.672421",
     "status": "completed"
    },
    "tags": []
   },
   "outputs": [
    {
     "data": {
      "text/plain": [
       "1    4130\n",
       "0    4130\n",
       "Name: Churn, dtype: int64"
      ]
     },
     "execution_count": 58,
     "metadata": {},
     "output_type": "execute_result"
    }
   ],
   "source": [
    "# Number of classes in training Data\n",
    "y_train.value_counts()"
   ]
  },
  {
   "cell_type": "markdown",
   "id": "b347aa11",
   "metadata": {
    "papermill": {
     "duration": 0.037628,
     "end_time": "2023-07-01T19:02:04.796986",
     "exception": false,
     "start_time": "2023-07-01T19:02:04.759358",
     "status": "completed"
    },
    "tags": []
   },
   "source": [
    "#### Logistic Regression"
   ]
  },
  {
   "cell_type": "code",
   "execution_count": 59,
   "id": "81336f30",
   "metadata": {
    "execution": {
     "iopub.execute_input": "2023-07-01T19:02:04.875572Z",
     "iopub.status.busy": "2023-07-01T19:02:04.875152Z",
     "iopub.status.idle": "2023-07-01T19:02:05.037948Z",
     "shell.execute_reply": "2023-07-01T19:02:05.036791Z"
    },
    "papermill": {
     "duration": 0.206189,
     "end_time": "2023-07-01T19:02:05.041341",
     "exception": false,
     "start_time": "2023-07-01T19:02:04.835152",
     "status": "completed"
    },
    "scrolled": true,
    "tags": []
   },
   "outputs": [
    {
     "name": "stdout",
     "output_type": "stream",
     "text": [
      "Accuracy 0.7579864472410455 \n",
      "\n",
      "preds [1 0 1 1 0] \n",
      "\n",
      "              precision    recall  f1-score   support\n",
      "\n",
      "           0       0.78      0.72      0.75      1033\n",
      "           1       0.74      0.80      0.77      1033\n",
      "\n",
      "    accuracy                           0.76      2066\n",
      "   macro avg       0.76      0.76      0.76      2066\n",
      "weighted avg       0.76      0.76      0.76      2066\n",
      "\n"
     ]
    }
   ],
   "source": [
    "weights = -1 # pass -1 to use Logistics Regression without weights\n",
    "log_reg(X_train, y_train, X_test, y_test, weights)"
   ]
  },
  {
   "cell_type": "markdown",
   "id": "c0e85832",
   "metadata": {
    "papermill": {
     "duration": 0.045033,
     "end_time": "2023-07-01T19:02:05.168038",
     "exception": false,
     "start_time": "2023-07-01T19:02:05.123005",
     "status": "completed"
    },
    "tags": []
   },
   "source": [
    "<h4 style='color:blue'>With oversampling: f1 score for minority class 1 improved to be 0.76 from 0.59</h4>"
   ]
  },
  {
   "cell_type": "markdown",
   "id": "f2ade15c",
   "metadata": {
    "papermill": {
     "duration": 0.037661,
     "end_time": "2023-07-01T19:02:05.243661",
     "exception": false,
     "start_time": "2023-07-01T19:02:05.206000",
     "status": "completed"
    },
    "tags": []
   },
   "source": [
    "#### Applying SVM"
   ]
  },
  {
   "cell_type": "code",
   "execution_count": 60,
   "id": "6928568d",
   "metadata": {
    "execution": {
     "iopub.execute_input": "2023-07-01T19:02:05.321335Z",
     "iopub.status.busy": "2023-07-01T19:02:05.320946Z",
     "iopub.status.idle": "2023-07-01T19:02:09.837594Z",
     "shell.execute_reply": "2023-07-01T19:02:09.836254Z"
    },
    "papermill": {
     "duration": 4.558414,
     "end_time": "2023-07-01T19:02:09.840028",
     "exception": false,
     "start_time": "2023-07-01T19:02:05.281614",
     "status": "completed"
    },
    "tags": []
   },
   "outputs": [
    {
     "name": "stdout",
     "output_type": "stream",
     "text": [
      "Accuracy 0.7783155856727977 \n",
      "\n",
      "preds [1 0 1 1 0] \n",
      "\n",
      "              precision    recall  f1-score   support\n",
      "\n",
      "           0       0.81      0.73      0.77      1033\n",
      "           1       0.76      0.82      0.79      1033\n",
      "\n",
      "    accuracy                           0.78      2066\n",
      "   macro avg       0.78      0.78      0.78      2066\n",
      "weighted avg       0.78      0.78      0.78      2066\n",
      "\n"
     ]
    }
   ],
   "source": [
    "clf = svm.SVC()\n",
    "clf.fit(X_train, y_train)\n",
    "\n",
    "acc = clf.score(X_test, y_test)\n",
    "print(\"Accuracy\", acc, \"\\n\")\n",
    "\n",
    "y_pred = clf.predict(X_test)\n",
    "print(\"preds\", y_pred[:5], \"\\n\")\n",
    "\n",
    "cl_rep = classification_report(y_test,y_pred)\n",
    "print(cl_rep)"
   ]
  },
  {
   "cell_type": "markdown",
   "id": "18378dd2",
   "metadata": {
    "papermill": {
     "duration": 0.039039,
     "end_time": "2023-07-01T19:02:09.917757",
     "exception": false,
     "start_time": "2023-07-01T19:02:09.878718",
     "status": "completed"
    },
    "tags": []
   },
   "source": [
    "#### Applying SGDClassifier"
   ]
  },
  {
   "cell_type": "code",
   "execution_count": 61,
   "id": "e337fa0f",
   "metadata": {
    "execution": {
     "iopub.execute_input": "2023-07-01T19:02:09.996287Z",
     "iopub.status.busy": "2023-07-01T19:02:09.995928Z",
     "iopub.status.idle": "2023-07-01T19:02:10.050981Z",
     "shell.execute_reply": "2023-07-01T19:02:10.049612Z"
    },
    "papermill": {
     "duration": 0.098757,
     "end_time": "2023-07-01T19:02:10.054930",
     "exception": false,
     "start_time": "2023-07-01T19:02:09.956173",
     "status": "completed"
    },
    "tags": []
   },
   "outputs": [
    {
     "name": "stdout",
     "output_type": "stream",
     "text": [
      "Accuracy 0.7366892545982575 \n",
      "\n",
      "preds [1 0 1 1 0] \n",
      "\n",
      "              precision    recall  f1-score   support\n",
      "\n",
      "           0       0.80      0.63      0.71      1033\n",
      "           1       0.70      0.84      0.76      1033\n",
      "\n",
      "    accuracy                           0.74      2066\n",
      "   macro avg       0.75      0.74      0.73      2066\n",
      "weighted avg       0.75      0.74      0.73      2066\n",
      "\n"
     ]
    }
   ],
   "source": [
    "clf = SGDClassifier(loss=\"hinge\", penalty=\"l2\", max_iter=5)\n",
    "clf.fit(X_train, y_train)\n",
    "\n",
    "acc = clf.score(X_test, y_test)\n",
    "print(\"Accuracy\", acc, \"\\n\")\n",
    "\n",
    "y_pred = clf.predict(X_test)\n",
    "print(\"preds\", y_pred[:5], \"\\n\")\n",
    "\n",
    "cl_rep = classification_report(y_test,y_pred)\n",
    "print(cl_rep)"
   ]
  },
  {
   "cell_type": "markdown",
   "id": "8e3ac732",
   "metadata": {
    "papermill": {
     "duration": 0.042118,
     "end_time": "2023-07-01T19:02:10.181464",
     "exception": false,
     "start_time": "2023-07-01T19:02:10.139346",
     "status": "completed"
    },
    "tags": []
   },
   "source": [
    "#### Applying NearestCentroid"
   ]
  },
  {
   "cell_type": "code",
   "execution_count": 62,
   "id": "73b2831e",
   "metadata": {
    "execution": {
     "iopub.execute_input": "2023-07-01T19:02:10.260092Z",
     "iopub.status.busy": "2023-07-01T19:02:10.259663Z",
     "iopub.status.idle": "2023-07-01T19:02:10.287543Z",
     "shell.execute_reply": "2023-07-01T19:02:10.286240Z"
    },
    "papermill": {
     "duration": 0.069901,
     "end_time": "2023-07-01T19:02:10.289894",
     "exception": false,
     "start_time": "2023-07-01T19:02:10.219993",
     "status": "completed"
    },
    "tags": []
   },
   "outputs": [
    {
     "name": "stdout",
     "output_type": "stream",
     "text": [
      "Accuracy 0.7512100677637947 \n",
      "\n",
      "preds [1 0 1 1 0] \n",
      "\n",
      "              precision    recall  f1-score   support\n",
      "\n",
      "           0       0.76      0.73      0.75      1033\n",
      "           1       0.74      0.77      0.76      1033\n",
      "\n",
      "    accuracy                           0.75      2066\n",
      "   macro avg       0.75      0.75      0.75      2066\n",
      "weighted avg       0.75      0.75      0.75      2066\n",
      "\n"
     ]
    }
   ],
   "source": [
    "clf = NearestCentroid()\n",
    "clf.fit(X_train, y_train)\n",
    "\n",
    "acc = clf.score(X_test, y_test)\n",
    "print(\"Accuracy\", acc, \"\\n\")\n",
    "\n",
    "y_pred = clf.predict(X_test)\n",
    "print(\"preds\", y_pred[:5], \"\\n\")\n",
    "\n",
    "cl_rep = classification_report(y_test,y_pred)\n",
    "print(cl_rep)"
   ]
  },
  {
   "cell_type": "markdown",
   "id": "86ceaa42",
   "metadata": {
    "papermill": {
     "duration": 0.038272,
     "end_time": "2023-07-01T19:02:10.367117",
     "exception": false,
     "start_time": "2023-07-01T19:02:10.328845",
     "status": "completed"
    },
    "tags": []
   },
   "source": [
    "#### Applying Decision Trees"
   ]
  },
  {
   "cell_type": "code",
   "execution_count": 63,
   "id": "c8c581f4",
   "metadata": {
    "execution": {
     "iopub.execute_input": "2023-07-01T19:02:10.445741Z",
     "iopub.status.busy": "2023-07-01T19:02:10.444889Z",
     "iopub.status.idle": "2023-07-01T19:02:10.517522Z",
     "shell.execute_reply": "2023-07-01T19:02:10.516319Z"
    },
    "papermill": {
     "duration": 0.11401,
     "end_time": "2023-07-01T19:02:10.519635",
     "exception": false,
     "start_time": "2023-07-01T19:02:10.405625",
     "status": "completed"
    },
    "tags": []
   },
   "outputs": [
    {
     "name": "stdout",
     "output_type": "stream",
     "text": [
      "Accuracy 0.8712487899322362 \n",
      "\n",
      "preds [1 0 1 0 1] \n",
      "\n",
      "              precision    recall  f1-score   support\n",
      "\n",
      "           0       0.93      0.80      0.86      1033\n",
      "           1       0.83      0.94      0.88      1033\n",
      "\n",
      "    accuracy                           0.87      2066\n",
      "   macro avg       0.88      0.87      0.87      2066\n",
      "weighted avg       0.88      0.87      0.87      2066\n",
      "\n"
     ]
    }
   ],
   "source": [
    "clf = tree.DecisionTreeClassifier()\n",
    "clf.fit(X_train, y_train)\n",
    "\n",
    "acc = clf.score(X_test, y_test)\n",
    "print(\"Accuracy\", acc, \"\\n\")\n",
    "\n",
    "y_pred = clf.predict(X_test)\n",
    "print(\"preds\", y_pred[:5], \"\\n\")\n",
    "\n",
    "cl_rep = classification_report(y_test,y_pred)\n",
    "print(cl_rep)"
   ]
  },
  {
   "cell_type": "code",
   "execution_count": 64,
   "id": "45c363ea",
   "metadata": {
    "execution": {
     "iopub.execute_input": "2023-07-01T19:02:10.602177Z",
     "iopub.status.busy": "2023-07-01T19:02:10.601101Z",
     "iopub.status.idle": "2023-07-01T19:02:10.605500Z",
     "shell.execute_reply": "2023-07-01T19:02:10.604581Z"
    },
    "papermill": {
     "duration": 0.047544,
     "end_time": "2023-07-01T19:02:10.607549",
     "exception": false,
     "start_time": "2023-07-01T19:02:10.560005",
     "status": "completed"
    },
    "tags": []
   },
   "outputs": [],
   "source": [
    "# clf"
   ]
  },
  {
   "cell_type": "code",
   "execution_count": 65,
   "id": "ee7d4db6",
   "metadata": {
    "execution": {
     "iopub.execute_input": "2023-07-01T19:02:10.687078Z",
     "iopub.status.busy": "2023-07-01T19:02:10.686119Z",
     "iopub.status.idle": "2023-07-01T19:02:10.691255Z",
     "shell.execute_reply": "2023-07-01T19:02:10.690192Z"
    },
    "papermill": {
     "duration": 0.04718,
     "end_time": "2023-07-01T19:02:10.693573",
     "exception": false,
     "start_time": "2023-07-01T19:02:10.646393",
     "status": "completed"
    },
    "tags": []
   },
   "outputs": [],
   "source": [
    "# joblib.dump(clf, 'DecisionTreeClassifier.joblib')"
   ]
  },
  {
   "cell_type": "code",
   "execution_count": 66,
   "id": "d43110a0",
   "metadata": {
    "execution": {
     "iopub.execute_input": "2023-07-01T19:02:10.785556Z",
     "iopub.status.busy": "2023-07-01T19:02:10.785130Z",
     "iopub.status.idle": "2023-07-01T19:02:10.789282Z",
     "shell.execute_reply": "2023-07-01T19:02:10.788186Z"
    },
    "papermill": {
     "duration": 0.053255,
     "end_time": "2023-07-01T19:02:10.792175",
     "exception": false,
     "start_time": "2023-07-01T19:02:10.738920",
     "status": "completed"
    },
    "tags": []
   },
   "outputs": [],
   "source": [
    "# # load the model from disk\n",
    "# loaded_model = joblib.load('DecisionTreeClassifier.joblib')\n",
    "# # fit_model = loaded_model.fit(X_train, y_train)\n",
    "# result = loaded_model.score(X_test, y_test)\n",
    "# print(result)"
   ]
  },
  {
   "cell_type": "markdown",
   "id": "03c2817a",
   "metadata": {
    "papermill": {
     "duration": 0.038629,
     "end_time": "2023-07-01T19:02:10.874637",
     "exception": false,
     "start_time": "2023-07-01T19:02:10.836008",
     "status": "completed"
    },
    "tags": []
   },
   "source": [
    "### Method3: SMOTE"
   ]
  },
  {
   "cell_type": "markdown",
   "id": "efab9e35",
   "metadata": {
    "papermill": {
     "duration": 0.038733,
     "end_time": "2023-07-01T19:02:10.952249",
     "exception": false,
     "start_time": "2023-07-01T19:02:10.913516",
     "status": "completed"
    },
    "tags": []
   },
   "source": [
    "To install imbalanced-learn library use \"pip install imbalanced-learn\" command"
   ]
  },
  {
   "cell_type": "code",
   "execution_count": 67,
   "id": "6e4111b2",
   "metadata": {
    "execution": {
     "iopub.execute_input": "2023-07-01T19:02:11.031812Z",
     "iopub.status.busy": "2023-07-01T19:02:11.030757Z",
     "iopub.status.idle": "2023-07-01T19:02:11.036720Z",
     "shell.execute_reply": "2023-07-01T19:02:11.035785Z"
    },
    "papermill": {
     "duration": 0.047987,
     "end_time": "2023-07-01T19:02:11.038879",
     "exception": false,
     "start_time": "2023-07-01T19:02:10.990892",
     "status": "completed"
    },
    "tags": []
   },
   "outputs": [],
   "source": [
    "X = df1.drop('Churn',axis='columns')\n",
    "y = df1['Churn']"
   ]
  },
  {
   "cell_type": "code",
   "execution_count": 68,
   "id": "c266a171",
   "metadata": {
    "execution": {
     "iopub.execute_input": "2023-07-01T19:02:11.118957Z",
     "iopub.status.busy": "2023-07-01T19:02:11.118570Z",
     "iopub.status.idle": "2023-07-01T19:02:11.506143Z",
     "shell.execute_reply": "2023-07-01T19:02:11.505274Z"
    },
    "papermill": {
     "duration": 0.429927,
     "end_time": "2023-07-01T19:02:11.508462",
     "exception": false,
     "start_time": "2023-07-01T19:02:11.078535",
     "status": "completed"
    },
    "tags": []
   },
   "outputs": [
    {
     "data": {
      "text/plain": [
       "0    5163\n",
       "1    5163\n",
       "Name: Churn, dtype: int64"
      ]
     },
     "execution_count": 68,
     "metadata": {},
     "output_type": "execute_result"
    }
   ],
   "source": [
    "from imblearn.over_sampling import SMOTE\n",
    "\n",
    "smote = SMOTE(sampling_strategy='minority')\n",
    "X_sm, y_sm = smote.fit_resample(X, y)\n",
    "\n",
    "y_sm.value_counts()"
   ]
  },
  {
   "cell_type": "code",
   "execution_count": 69,
   "id": "98efb46d",
   "metadata": {
    "execution": {
     "iopub.execute_input": "2023-07-01T19:02:11.587285Z",
     "iopub.status.busy": "2023-07-01T19:02:11.586861Z",
     "iopub.status.idle": "2023-07-01T19:02:11.601426Z",
     "shell.execute_reply": "2023-07-01T19:02:11.600558Z"
    },
    "papermill": {
     "duration": 0.056163,
     "end_time": "2023-07-01T19:02:11.603673",
     "exception": false,
     "start_time": "2023-07-01T19:02:11.547510",
     "status": "completed"
    },
    "tags": []
   },
   "outputs": [],
   "source": [
    "from sklearn.model_selection import train_test_split\n",
    "X_train, X_test, y_train, y_test = train_test_split(X_sm, y_sm, test_size=0.2, random_state=15, stratify=y_sm)"
   ]
  },
  {
   "cell_type": "code",
   "execution_count": 70,
   "id": "17ec83bc",
   "metadata": {
    "execution": {
     "iopub.execute_input": "2023-07-01T19:02:11.681767Z",
     "iopub.status.busy": "2023-07-01T19:02:11.680801Z",
     "iopub.status.idle": "2023-07-01T19:02:11.688499Z",
     "shell.execute_reply": "2023-07-01T19:02:11.687795Z"
    },
    "papermill": {
     "duration": 0.04804,
     "end_time": "2023-07-01T19:02:11.690333",
     "exception": false,
     "start_time": "2023-07-01T19:02:11.642293",
     "status": "completed"
    },
    "tags": []
   },
   "outputs": [
    {
     "data": {
      "text/plain": [
       "1    4130\n",
       "0    4130\n",
       "Name: Churn, dtype: int64"
      ]
     },
     "execution_count": 70,
     "metadata": {},
     "output_type": "execute_result"
    }
   ],
   "source": [
    "# Number of classes in training Data\n",
    "y_train.value_counts()"
   ]
  },
  {
   "cell_type": "markdown",
   "id": "748b41aa",
   "metadata": {
    "papermill": {
     "duration": 0.038414,
     "end_time": "2023-07-01T19:02:11.767571",
     "exception": false,
     "start_time": "2023-07-01T19:02:11.729157",
     "status": "completed"
    },
    "tags": []
   },
   "source": [
    "## Final results: Logistic Regression"
   ]
  },
  {
   "cell_type": "code",
   "execution_count": 71,
   "id": "1cbcbebd",
   "metadata": {
    "execution": {
     "iopub.execute_input": "2023-07-01T19:02:11.847046Z",
     "iopub.status.busy": "2023-07-01T19:02:11.846470Z",
     "iopub.status.idle": "2023-07-01T19:02:12.034545Z",
     "shell.execute_reply": "2023-07-01T19:02:12.033176Z"
    },
    "papermill": {
     "duration": 0.231897,
     "end_time": "2023-07-01T19:02:12.038192",
     "exception": false,
     "start_time": "2023-07-01T19:02:11.806295",
     "status": "completed"
    },
    "tags": []
   },
   "outputs": [
    {
     "name": "stdout",
     "output_type": "stream",
     "text": [
      "Accuracy 0.7967086156824782 \n",
      "\n",
      "preds [1 0 1 1 0] \n",
      "\n",
      "              precision    recall  f1-score   support\n",
      "\n",
      "           0       0.81      0.77      0.79      1033\n",
      "           1       0.78      0.82      0.80      1033\n",
      "\n",
      "    accuracy                           0.80      2066\n",
      "   macro avg       0.80      0.80      0.80      2066\n",
      "weighted avg       0.80      0.80      0.80      2066\n",
      "\n"
     ]
    }
   ],
   "source": [
    "weights = -1 # pass -1 to use Logistics Regression without weights\n",
    "log_reg(X_train, y_train, X_test, y_test, weights)"
   ]
  },
  {
   "cell_type": "markdown",
   "id": "3c04b6d0",
   "metadata": {
    "papermill": {
     "duration": 0.043984,
     "end_time": "2023-07-01T19:02:12.166016",
     "exception": false,
     "start_time": "2023-07-01T19:02:12.122032",
     "status": "completed"
    },
    "tags": []
   },
   "source": [
    "<h4 style='color:blue'>With SMOTE oversampling: f1 score for minority class 1 improved to be 0.81 from 0.59</h4>"
   ]
  },
  {
   "cell_type": "markdown",
   "id": "7451aa2c",
   "metadata": {
    "papermill": {
     "duration": 0.0402,
     "end_time": "2023-07-01T19:02:12.245344",
     "exception": false,
     "start_time": "2023-07-01T19:02:12.205144",
     "status": "completed"
    },
    "tags": []
   },
   "source": [
    "#### Applying SVM"
   ]
  },
  {
   "cell_type": "code",
   "execution_count": 72,
   "id": "abd0b3e7",
   "metadata": {
    "execution": {
     "iopub.execute_input": "2023-07-01T19:02:12.325381Z",
     "iopub.status.busy": "2023-07-01T19:02:12.325005Z",
     "iopub.status.idle": "2023-07-01T19:02:16.137626Z",
     "shell.execute_reply": "2023-07-01T19:02:16.136580Z"
    },
    "papermill": {
     "duration": 3.855856,
     "end_time": "2023-07-01T19:02:16.140147",
     "exception": false,
     "start_time": "2023-07-01T19:02:12.284291",
     "status": "completed"
    },
    "tags": []
   },
   "outputs": [
    {
     "name": "stdout",
     "output_type": "stream",
     "text": [
      "Accuracy 0.7928363988383349 \n",
      "\n",
      "preds [1 0 1 1 0] \n",
      "\n",
      "              precision    recall  f1-score   support\n",
      "\n",
      "           0       0.81      0.77      0.79      1033\n",
      "           1       0.78      0.82      0.80      1033\n",
      "\n",
      "    accuracy                           0.79      2066\n",
      "   macro avg       0.79      0.79      0.79      2066\n",
      "weighted avg       0.79      0.79      0.79      2066\n",
      "\n"
     ]
    }
   ],
   "source": [
    "clf = svm.SVC()\n",
    "clf.fit(X_train, y_train)\n",
    "\n",
    "acc = clf.score(X_test, y_test)\n",
    "print(\"Accuracy\", acc, \"\\n\")\n",
    "\n",
    "y_pred = clf.predict(X_test)\n",
    "print(\"preds\", y_pred[:5], \"\\n\")\n",
    "\n",
    "cl_rep = classification_report(y_test,y_pred)\n",
    "print(cl_rep)"
   ]
  },
  {
   "cell_type": "markdown",
   "id": "c91bb4d7",
   "metadata": {
    "papermill": {
     "duration": 0.039264,
     "end_time": "2023-07-01T19:02:16.219074",
     "exception": false,
     "start_time": "2023-07-01T19:02:16.179810",
     "status": "completed"
    },
    "tags": []
   },
   "source": [
    "#### Applying SGDClassifier"
   ]
  },
  {
   "cell_type": "code",
   "execution_count": 73,
   "id": "404cebee",
   "metadata": {
    "execution": {
     "iopub.execute_input": "2023-07-01T19:02:16.299583Z",
     "iopub.status.busy": "2023-07-01T19:02:16.299199Z",
     "iopub.status.idle": "2023-07-01T19:02:16.348336Z",
     "shell.execute_reply": "2023-07-01T19:02:16.346670Z"
    },
    "papermill": {
     "duration": 0.094145,
     "end_time": "2023-07-01T19:02:16.352448",
     "exception": false,
     "start_time": "2023-07-01T19:02:16.258303",
     "status": "completed"
    },
    "tags": []
   },
   "outputs": [
    {
     "name": "stdout",
     "output_type": "stream",
     "text": [
      "Accuracy 0.7671829622458858 \n",
      "\n",
      "preds [1 0 1 1 0] \n",
      "\n",
      "              precision    recall  f1-score   support\n",
      "\n",
      "           0       0.84      0.66      0.74      1033\n",
      "           1       0.72      0.87      0.79      1033\n",
      "\n",
      "    accuracy                           0.77      2066\n",
      "   macro avg       0.78      0.77      0.76      2066\n",
      "weighted avg       0.78      0.77      0.76      2066\n",
      "\n"
     ]
    }
   ],
   "source": [
    "clf = SGDClassifier(loss=\"hinge\", penalty=\"l2\", max_iter=5)\n",
    "clf.fit(X_train, y_train)\n",
    "\n",
    "acc = clf.score(X_test, y_test)\n",
    "print(\"Accuracy\", acc, \"\\n\")\n",
    "\n",
    "y_pred = clf.predict(X_test)\n",
    "print(\"preds\", y_pred[:5], \"\\n\")\n",
    "\n",
    "cl_rep = classification_report(y_test,y_pred)\n",
    "print(cl_rep)"
   ]
  },
  {
   "cell_type": "markdown",
   "id": "604181f8",
   "metadata": {
    "papermill": {
     "duration": 0.045957,
     "end_time": "2023-07-01T19:02:16.498547",
     "exception": false,
     "start_time": "2023-07-01T19:02:16.452590",
     "status": "completed"
    },
    "tags": []
   },
   "source": [
    "#### Applying NearestCentroid"
   ]
  },
  {
   "cell_type": "code",
   "execution_count": 74,
   "id": "ab8dc118",
   "metadata": {
    "execution": {
     "iopub.execute_input": "2023-07-01T19:02:16.580791Z",
     "iopub.status.busy": "2023-07-01T19:02:16.580403Z",
     "iopub.status.idle": "2023-07-01T19:02:16.619040Z",
     "shell.execute_reply": "2023-07-01T19:02:16.617771Z"
    },
    "papermill": {
     "duration": 0.082355,
     "end_time": "2023-07-01T19:02:16.621456",
     "exception": false,
     "start_time": "2023-07-01T19:02:16.539101",
     "status": "completed"
    },
    "tags": []
   },
   "outputs": [
    {
     "name": "stdout",
     "output_type": "stream",
     "text": [
      "Accuracy 0.7700871248789932 \n",
      "\n",
      "preds [1 0 1 1 0] \n",
      "\n",
      "              precision    recall  f1-score   support\n",
      "\n",
      "           0       0.79      0.74      0.76      1033\n",
      "           1       0.75      0.80      0.78      1033\n",
      "\n",
      "    accuracy                           0.77      2066\n",
      "   macro avg       0.77      0.77      0.77      2066\n",
      "weighted avg       0.77      0.77      0.77      2066\n",
      "\n"
     ]
    }
   ],
   "source": [
    "clf = NearestCentroid()\n",
    "clf.fit(X_train, y_train)\n",
    "\n",
    "acc = clf.score(X_test, y_test)\n",
    "print(\"Accuracy\", acc, \"\\n\")\n",
    "\n",
    "y_pred = clf.predict(X_test)\n",
    "print(\"preds\", y_pred[:5], \"\\n\")\n",
    "\n",
    "cl_rep = classification_report(y_test,y_pred)\n",
    "print(cl_rep)"
   ]
  },
  {
   "cell_type": "markdown",
   "id": "c1909401",
   "metadata": {
    "papermill": {
     "duration": 0.040462,
     "end_time": "2023-07-01T19:02:16.702310",
     "exception": false,
     "start_time": "2023-07-01T19:02:16.661848",
     "status": "completed"
    },
    "tags": []
   },
   "source": [
    "#### Applying Decision Trees"
   ]
  },
  {
   "cell_type": "code",
   "execution_count": 75,
   "id": "c5ed0cff",
   "metadata": {
    "execution": {
     "iopub.execute_input": "2023-07-01T19:02:16.794550Z",
     "iopub.status.busy": "2023-07-01T19:02:16.793715Z",
     "iopub.status.idle": "2023-07-01T19:02:16.880722Z",
     "shell.execute_reply": "2023-07-01T19:02:16.879536Z"
    },
    "papermill": {
     "duration": 0.13722,
     "end_time": "2023-07-01T19:02:16.883247",
     "exception": false,
     "start_time": "2023-07-01T19:02:16.746027",
     "status": "completed"
    },
    "tags": []
   },
   "outputs": [
    {
     "name": "stdout",
     "output_type": "stream",
     "text": [
      "Accuracy 0.7700871248789932 \n",
      "\n",
      "preds [1 0 0 1 0] \n",
      "\n",
      "              precision    recall  f1-score   support\n",
      "\n",
      "           0       0.78      0.75      0.76      1033\n",
      "           1       0.76      0.79      0.78      1033\n",
      "\n",
      "    accuracy                           0.77      2066\n",
      "   macro avg       0.77      0.77      0.77      2066\n",
      "weighted avg       0.77      0.77      0.77      2066\n",
      "\n"
     ]
    }
   ],
   "source": [
    "clf = tree.DecisionTreeClassifier()\n",
    "clf.fit(X_train, y_train)\n",
    "\n",
    "acc = clf.score(X_test, y_test)\n",
    "print(\"Accuracy\", acc, \"\\n\")\n",
    "\n",
    "y_pred = clf.predict(X_test)\n",
    "print(\"preds\", y_pred[:5], \"\\n\")\n",
    "\n",
    "cl_rep = classification_report(y_test,y_pred)\n",
    "print(cl_rep)"
   ]
  }
 ],
 "metadata": {
  "kernelspec": {
   "display_name": "Python 3",
   "language": "python",
   "name": "python3"
  },
  "language_info": {
   "codemirror_mode": {
    "name": "ipython",
    "version": 3
   },
   "file_extension": ".py",
   "mimetype": "text/x-python",
   "name": "python",
   "nbconvert_exporter": "python",
   "pygments_lexer": "ipython3",
   "version": "3.10.10"
  },
  "papermill": {
   "default_parameters": {},
   "duration": 36.164551,
   "end_time": "2023-07-01T19:02:17.946720",
   "environment_variables": {},
   "exception": null,
   "input_path": "__notebook__.ipynb",
   "output_path": "__notebook__.ipynb",
   "parameters": {},
   "start_time": "2023-07-01T19:01:41.782169",
   "version": "2.4.0"
  }
 },
 "nbformat": 4,
 "nbformat_minor": 5
}
